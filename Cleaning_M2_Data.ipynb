{
 "cells": [
  {
   "cell_type": "code",
   "execution_count": 2,
   "id": "75279871",
   "metadata": {},
   "outputs": [],
   "source": [
    "import pandas as pd\n",
    "import numpy as np"
   ]
  },
  {
   "cell_type": "code",
   "execution_count": 5,
   "id": "39dca1de",
   "metadata": {
    "scrolled": true
   },
   "outputs": [
    {
     "data": {
      "text/html": [
       "<div>\n",
       "<style scoped>\n",
       "    .dataframe tbody tr th:only-of-type {\n",
       "        vertical-align: middle;\n",
       "    }\n",
       "\n",
       "    .dataframe tbody tr th {\n",
       "        vertical-align: top;\n",
       "    }\n",
       "\n",
       "    .dataframe thead th {\n",
       "        text-align: right;\n",
       "    }\n",
       "</style>\n",
       "<table border=\"1\" class=\"dataframe\">\n",
       "  <thead>\n",
       "    <tr style=\"text-align: right;\">\n",
       "      <th></th>\n",
       "      <th>DATE</th>\n",
       "      <th>M2</th>\n",
       "    </tr>\n",
       "  </thead>\n",
       "  <tbody>\n",
       "    <tr>\n",
       "      <th>0</th>\n",
       "      <td>1980-11-03</td>\n",
       "      <td>1591.4</td>\n",
       "    </tr>\n",
       "    <tr>\n",
       "      <th>1</th>\n",
       "      <td>1980-11-10</td>\n",
       "      <td>1592.9</td>\n",
       "    </tr>\n",
       "    <tr>\n",
       "      <th>2</th>\n",
       "      <td>1980-11-17</td>\n",
       "      <td>1596.3</td>\n",
       "    </tr>\n",
       "    <tr>\n",
       "      <th>3</th>\n",
       "      <td>1980-11-24</td>\n",
       "      <td>1597.2</td>\n",
       "    </tr>\n",
       "    <tr>\n",
       "      <th>4</th>\n",
       "      <td>1980-12-01</td>\n",
       "      <td>1596.1</td>\n",
       "    </tr>\n",
       "    <tr>\n",
       "      <th>...</th>\n",
       "      <td>...</td>\n",
       "      <td>...</td>\n",
       "    </tr>\n",
       "    <tr>\n",
       "      <th>2096</th>\n",
       "      <td>2021-01-04</td>\n",
       "      <td>19081.0</td>\n",
       "    </tr>\n",
       "    <tr>\n",
       "      <th>2097</th>\n",
       "      <td>2021-01-11</td>\n",
       "      <td>19453.9</td>\n",
       "    </tr>\n",
       "    <tr>\n",
       "      <th>2098</th>\n",
       "      <td>2021-01-18</td>\n",
       "      <td>19470.0</td>\n",
       "    </tr>\n",
       "    <tr>\n",
       "      <th>2099</th>\n",
       "      <td>2021-01-25</td>\n",
       "      <td>19419.6</td>\n",
       "    </tr>\n",
       "    <tr>\n",
       "      <th>2100</th>\n",
       "      <td>2021-02-01</td>\n",
       "      <td>19417.7</td>\n",
       "    </tr>\n",
       "  </tbody>\n",
       "</table>\n",
       "<p>2101 rows × 2 columns</p>\n",
       "</div>"
      ],
      "text/plain": [
       "            DATE       M2\n",
       "0     1980-11-03   1591.4\n",
       "1     1980-11-10   1592.9\n",
       "2     1980-11-17   1596.3\n",
       "3     1980-11-24   1597.2\n",
       "4     1980-12-01   1596.1\n",
       "...          ...      ...\n",
       "2096  2021-01-04  19081.0\n",
       "2097  2021-01-11  19453.9\n",
       "2098  2021-01-18  19470.0\n",
       "2099  2021-01-25  19419.6\n",
       "2100  2021-02-01  19417.7\n",
       "\n",
       "[2101 rows x 2 columns]"
      ]
     },
     "execution_count": 5,
     "metadata": {},
     "output_type": "execute_result"
    }
   ],
   "source": [
    "# Loading in M2_weekly_Nov1980_to_Feb2021.csv to a Pandas DataFrame\n",
    "m2_df = pd.read_csv('M2_weekly_Nov1980_to_Feb2021.csv')\n",
    "m2_df"
   ]
  },
  {
   "cell_type": "code",
   "execution_count": 6,
   "id": "d2db7bb4",
   "metadata": {},
   "outputs": [],
   "source": [
    "# Renaming 'Close' column to 'BTC/USD'\n",
    "m2_df = m2_df.rename(columns = {'DATE':'Date'})"
   ]
  },
  {
   "cell_type": "code",
   "execution_count": 7,
   "id": "2b7609a3",
   "metadata": {
    "scrolled": false
   },
   "outputs": [
    {
     "data": {
      "text/plain": [
       "Date     object\n",
       "M2      float64\n",
       "dtype: object"
      ]
     },
     "execution_count": 7,
     "metadata": {},
     "output_type": "execute_result"
    }
   ],
   "source": [
    "# Checking data types of btc_df DataFrame\n",
    "m2_df.dtypes"
   ]
  },
  {
   "cell_type": "code",
   "execution_count": 8,
   "id": "ed31dcec",
   "metadata": {
    "scrolled": true
   },
   "outputs": [],
   "source": [
    "# Converting 'Date' column data type to datetime\n",
    "m2_df['Date']= pd.to_datetime(m2_df['Date'])"
   ]
  },
  {
   "cell_type": "code",
   "execution_count": 9,
   "id": "8bce361d",
   "metadata": {},
   "outputs": [
    {
     "data": {
      "text/plain": [
       "Date    datetime64[ns]\n",
       "M2             float64\n",
       "dtype: object"
      ]
     },
     "execution_count": 9,
     "metadata": {},
     "output_type": "execute_result"
    }
   ],
   "source": [
    "# Confirming 'Date' column data type is now datetime\n",
    "m2_df.dtypes"
   ]
  },
  {
   "cell_type": "code",
   "execution_count": 10,
   "id": "3f34ab96",
   "metadata": {
    "scrolled": true
   },
   "outputs": [
    {
     "data": {
      "text/html": [
       "<div>\n",
       "<style scoped>\n",
       "    .dataframe tbody tr th:only-of-type {\n",
       "        vertical-align: middle;\n",
       "    }\n",
       "\n",
       "    .dataframe tbody tr th {\n",
       "        vertical-align: top;\n",
       "    }\n",
       "\n",
       "    .dataframe thead th {\n",
       "        text-align: right;\n",
       "    }\n",
       "</style>\n",
       "<table border=\"1\" class=\"dataframe\">\n",
       "  <thead>\n",
       "    <tr style=\"text-align: right;\">\n",
       "      <th></th>\n",
       "      <th>Date</th>\n",
       "      <th>M2</th>\n",
       "    </tr>\n",
       "  </thead>\n",
       "  <tbody>\n",
       "    <tr>\n",
       "      <th>0</th>\n",
       "      <td>1980-11-03</td>\n",
       "      <td>1591.4</td>\n",
       "    </tr>\n",
       "    <tr>\n",
       "      <th>1</th>\n",
       "      <td>1980-11-10</td>\n",
       "      <td>1592.9</td>\n",
       "    </tr>\n",
       "    <tr>\n",
       "      <th>2</th>\n",
       "      <td>1980-11-17</td>\n",
       "      <td>1596.3</td>\n",
       "    </tr>\n",
       "    <tr>\n",
       "      <th>3</th>\n",
       "      <td>1980-11-24</td>\n",
       "      <td>1597.2</td>\n",
       "    </tr>\n",
       "    <tr>\n",
       "      <th>4</th>\n",
       "      <td>1980-12-01</td>\n",
       "      <td>1596.1</td>\n",
       "    </tr>\n",
       "    <tr>\n",
       "      <th>...</th>\n",
       "      <td>...</td>\n",
       "      <td>...</td>\n",
       "    </tr>\n",
       "    <tr>\n",
       "      <th>2096</th>\n",
       "      <td>2021-01-04</td>\n",
       "      <td>19081.0</td>\n",
       "    </tr>\n",
       "    <tr>\n",
       "      <th>2097</th>\n",
       "      <td>2021-01-11</td>\n",
       "      <td>19453.9</td>\n",
       "    </tr>\n",
       "    <tr>\n",
       "      <th>2098</th>\n",
       "      <td>2021-01-18</td>\n",
       "      <td>19470.0</td>\n",
       "    </tr>\n",
       "    <tr>\n",
       "      <th>2099</th>\n",
       "      <td>2021-01-25</td>\n",
       "      <td>19419.6</td>\n",
       "    </tr>\n",
       "    <tr>\n",
       "      <th>2100</th>\n",
       "      <td>2021-02-01</td>\n",
       "      <td>19417.7</td>\n",
       "    </tr>\n",
       "  </tbody>\n",
       "</table>\n",
       "<p>2101 rows × 2 columns</p>\n",
       "</div>"
      ],
      "text/plain": [
       "           Date       M2\n",
       "0    1980-11-03   1591.4\n",
       "1    1980-11-10   1592.9\n",
       "2    1980-11-17   1596.3\n",
       "3    1980-11-24   1597.2\n",
       "4    1980-12-01   1596.1\n",
       "...         ...      ...\n",
       "2096 2021-01-04  19081.0\n",
       "2097 2021-01-11  19453.9\n",
       "2098 2021-01-18  19470.0\n",
       "2099 2021-01-25  19419.6\n",
       "2100 2021-02-01  19417.7\n",
       "\n",
       "[2101 rows x 2 columns]"
      ]
     },
     "execution_count": 10,
     "metadata": {},
     "output_type": "execute_result"
    }
   ],
   "source": [
    "m2_df"
   ]
  },
  {
   "cell_type": "code",
   "execution_count": null,
   "id": "2625a900",
   "metadata": {},
   "outputs": [],
   "source": []
  },
  {
   "cell_type": "code",
   "execution_count": 11,
   "id": "eba1c979",
   "metadata": {},
   "outputs": [
    {
     "name": "stdout",
     "output_type": "stream",
     "text": [
      "Stored 'm2_df' (DataFrame)\n"
     ]
    }
   ],
   "source": [
    "%store m2_df"
   ]
  }
 ],
 "metadata": {
  "kernelspec": {
   "display_name": "Python 3",
   "language": "python",
   "name": "python3"
  },
  "language_info": {
   "codemirror_mode": {
    "name": "ipython",
    "version": 3
   },
   "file_extension": ".py",
   "mimetype": "text/x-python",
   "name": "python",
   "nbconvert_exporter": "python",
   "pygments_lexer": "ipython3",
   "version": "3.8.8"
  }
 },
 "nbformat": 4,
 "nbformat_minor": 5
}
