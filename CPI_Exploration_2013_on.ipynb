{
 "cells": [
  {
   "cell_type": "code",
   "execution_count": 15,
   "id": "58e6243e",
   "metadata": {},
   "outputs": [],
   "source": [
    "import pandas as pd\n",
    "import numpy as np"
   ]
  },
  {
   "cell_type": "code",
   "execution_count": 16,
   "id": "74ede7de",
   "metadata": {},
   "outputs": [],
   "source": [
    "%store -r cpi_df"
   ]
  },
  {
   "cell_type": "code",
   "execution_count": 17,
   "id": "4a797ea5",
   "metadata": {
    "scrolled": true
   },
   "outputs": [
    {
     "data": {
      "text/html": [
       "<div>\n",
       "<style scoped>\n",
       "    .dataframe tbody tr th:only-of-type {\n",
       "        vertical-align: middle;\n",
       "    }\n",
       "\n",
       "    .dataframe tbody tr th {\n",
       "        vertical-align: top;\n",
       "    }\n",
       "\n",
       "    .dataframe thead th {\n",
       "        text-align: right;\n",
       "    }\n",
       "</style>\n",
       "<table border=\"1\" class=\"dataframe\">\n",
       "  <thead>\n",
       "    <tr style=\"text-align: right;\">\n",
       "      <th></th>\n",
       "      <th>Date</th>\n",
       "      <th>CPI</th>\n",
       "    </tr>\n",
       "  </thead>\n",
       "  <tbody>\n",
       "    <tr>\n",
       "      <th>0</th>\n",
       "      <td>1913-01-01</td>\n",
       "      <td>9.800</td>\n",
       "    </tr>\n",
       "    <tr>\n",
       "      <th>1</th>\n",
       "      <td>1913-02-01</td>\n",
       "      <td>9.800</td>\n",
       "    </tr>\n",
       "    <tr>\n",
       "      <th>2</th>\n",
       "      <td>1913-03-01</td>\n",
       "      <td>9.800</td>\n",
       "    </tr>\n",
       "    <tr>\n",
       "      <th>3</th>\n",
       "      <td>1913-04-01</td>\n",
       "      <td>9.800</td>\n",
       "    </tr>\n",
       "    <tr>\n",
       "      <th>4</th>\n",
       "      <td>1913-05-01</td>\n",
       "      <td>9.700</td>\n",
       "    </tr>\n",
       "    <tr>\n",
       "      <th>...</th>\n",
       "      <td>...</td>\n",
       "      <td>...</td>\n",
       "    </tr>\n",
       "    <tr>\n",
       "      <th>1296</th>\n",
       "      <td>2021-01-01</td>\n",
       "      <td>261.582</td>\n",
       "    </tr>\n",
       "    <tr>\n",
       "      <th>1297</th>\n",
       "      <td>2021-02-01</td>\n",
       "      <td>263.014</td>\n",
       "    </tr>\n",
       "    <tr>\n",
       "      <th>1298</th>\n",
       "      <td>2021-03-01</td>\n",
       "      <td>264.877</td>\n",
       "    </tr>\n",
       "    <tr>\n",
       "      <th>1299</th>\n",
       "      <td>2021-04-01</td>\n",
       "      <td>267.054</td>\n",
       "    </tr>\n",
       "    <tr>\n",
       "      <th>1300</th>\n",
       "      <td>2021-05-01</td>\n",
       "      <td>269.195</td>\n",
       "    </tr>\n",
       "  </tbody>\n",
       "</table>\n",
       "<p>1301 rows × 2 columns</p>\n",
       "</div>"
      ],
      "text/plain": [
       "           Date      CPI\n",
       "0    1913-01-01    9.800\n",
       "1    1913-02-01    9.800\n",
       "2    1913-03-01    9.800\n",
       "3    1913-04-01    9.800\n",
       "4    1913-05-01    9.700\n",
       "...         ...      ...\n",
       "1296 2021-01-01  261.582\n",
       "1297 2021-02-01  263.014\n",
       "1298 2021-03-01  264.877\n",
       "1299 2021-04-01  267.054\n",
       "1300 2021-05-01  269.195\n",
       "\n",
       "[1301 rows x 2 columns]"
      ]
     },
     "execution_count": 17,
     "metadata": {},
     "output_type": "execute_result"
    }
   ],
   "source": [
    "cpi_df"
   ]
  },
  {
   "cell_type": "code",
   "execution_count": 18,
   "id": "e56d3f8b",
   "metadata": {},
   "outputs": [],
   "source": [
    "# Cutting CPI df down to dates where BTC/SP info exists\n",
    "cpi_2013_df = cpi_df[cpi_df['Date'] > '2013-01-01']"
   ]
  },
  {
   "cell_type": "code",
   "execution_count": 19,
   "id": "d9bae5a4",
   "metadata": {
    "scrolled": true
   },
   "outputs": [
    {
     "name": "stderr",
     "output_type": "stream",
     "text": [
      "<ipython-input-19-7db210617c43>:1: SettingWithCopyWarning: \n",
      "A value is trying to be set on a copy of a slice from a DataFrame.\n",
      "Try using .loc[row_indexer,col_indexer] = value instead\n",
      "\n",
      "See the caveats in the documentation: https://pandas.pydata.org/pandas-docs/stable/user_guide/indexing.html#returning-a-view-versus-a-copy\n",
      "  cpi_2013_df['Mo Change'] = cpi_df['CPI'].pct_change()\n"
     ]
    }
   ],
   "source": [
    "# Creating column to calculate monthly % change in CPI\n",
    "cpi_2013_df['Mo Change'] = cpi_df['CPI'].pct_change()"
   ]
  },
  {
   "cell_type": "code",
   "execution_count": 20,
   "id": "9b57ad87",
   "metadata": {
    "scrolled": true
   },
   "outputs": [
    {
     "data": {
      "text/plain": [
       "<AxesSubplot:xlabel='Date'>"
      ]
     },
     "execution_count": 20,
     "metadata": {},
     "output_type": "execute_result"
    },
    {
     "data": {
      "image/png": "[encoded data removed]",
      "text/plain": [
       "<Figure size 432x288 with 1 Axes>"
      ]
     },
     "metadata": {
      "needs_background": "light"
     },
     "output_type": "display_data"
    }
   ],
   "source": [
    "# Plotting line graph of CPI monthly change\n",
    "cpi_2013_df.plot(x = 'Date', y = 'Mo Change')"
   ]
  },
  {
   "cell_type": "code",
   "execution_count": 21,
   "id": "be76f4e0",
   "metadata": {
    "scrolled": true
   },
   "outputs": [
    {
     "data": {
      "text/plain": [
       "<AxesSubplot:xlabel='Date'>"
      ]
     },
     "execution_count": 21,
     "metadata": {},
     "output_type": "execute_result"
    },
    {
     "data": {
      "image/png": "[encoded data removed]",
      "text/plain": [
       "<Figure size 432x288 with 1 Axes>"
      ]
     },
     "metadata": {
      "needs_background": "light"
     },
     "output_type": "display_data"
    }
   ],
   "source": [
    "# Plotting line graph of CPI\n",
    "cpi_2013_df.plot(x = 'Date', y = 'CPI')"
   ]
  },
  {
   "cell_type": "code",
   "execution_count": 22,
   "id": "868489f6",
   "metadata": {},
   "outputs": [],
   "source": [
    "%store -r btc_df\n",
    "%store -r gold_usd_df\n",
    "%store -r sp500_df"
   ]
  },
  {
   "cell_type": "code",
   "execution_count": 23,
   "id": "0b171d5c",
   "metadata": {},
   "outputs": [],
   "source": [
    "# Merging in BTC data\n",
    "cpi_2013_df = pd.merge(cpi_2013_df, btc_df, how = 'left', on = 'Date')"
   ]
  },
  {
   "cell_type": "code",
   "execution_count": 24,
   "id": "a06e0659",
   "metadata": {},
   "outputs": [],
   "source": [
    "# Merging in Gold data\n",
    "cpi_2013_df = pd.merge(cpi_2013_df, gold_usd_df, how = 'left', on = 'Date')"
   ]
  },
  {
   "cell_type": "code",
   "execution_count": 25,
   "id": "b3625ae6",
   "metadata": {},
   "outputs": [],
   "source": [
    "# Merging in S&P 500 data\n",
    "cpi_2013_df = pd.merge(cpi_2013_df, sp500_df, how = 'left', on = 'Date')"
   ]
  },
  {
   "cell_type": "code",
   "execution_count": 26,
   "id": "4bcc89b8",
   "metadata": {},
   "outputs": [],
   "source": [
    "# Creating column to calculate monthly % change in BTC\n",
    "cpi_2013_df['BTC Mo Change'] = cpi_2013_df['BTC/USD'].pct_change()"
   ]
  },
  {
   "cell_type": "code",
   "execution_count": 27,
   "id": "c824aa5a",
   "metadata": {},
   "outputs": [],
   "source": [
    "# Creating column to calculate monthly % change in Gold\n",
    "cpi_2013_df['Gold Mo Change'] = cpi_2013_df['Oz Gold/USD'].pct_change()"
   ]
  },
  {
   "cell_type": "code",
   "execution_count": 28,
   "id": "c187cab9",
   "metadata": {},
   "outputs": [],
   "source": [
    "# Creating column to calculate monthly % change in S&P 500\n",
    "cpi_2013_df['SP 500 Mo Change'] = cpi_2013_df['SP500'].pct_change()"
   ]
  },
  {
   "cell_type": "code",
   "execution_count": 68,
   "id": "88e21b29",
   "metadata": {
    "scrolled": false
   },
   "outputs": [
    {
     "data": {
      "text/plain": [
       "array([[<AxesSubplot:title={'center':'Mo Change'}>]], dtype=object)"
      ]
     },
     "execution_count": 68,
     "metadata": {},
     "output_type": "execute_result"
    },
    {
     "data": {
      "image/png": "[encoded data removed]",
      "text/plain": [
       "<Figure size 504x504 with 1 Axes>"
      ]
     },
     "metadata": {
      "needs_background": "light"
     },
     "output_type": "display_data"
    }
   ],
   "source": [
    "# Creating histogram of CPI monthly change\n",
    "cpi_2013_df.hist(column = 'Mo Change', figsize = (7,7), bins = 20)"
   ]
  },
  {
   "cell_type": "code",
   "execution_count": 30,
   "id": "c3a3a9d1",
   "metadata": {},
   "outputs": [],
   "source": [
    "# Finding standard dev of CPI monthly change\n",
    "cpi_2013_mo_std = cpi_2013_df['Mo Change'].std()"
   ]
  },
  {
   "cell_type": "code",
   "execution_count": 31,
   "id": "3aca5055",
   "metadata": {},
   "outputs": [],
   "source": [
    "# Finding mean of CPI monthly change\n",
    "cpi_2013_mo_mean = cpi_2013_df['Mo Change'].mean()"
   ]
  },
  {
   "cell_type": "code",
   "execution_count": 39,
   "id": "970df40a",
   "metadata": {},
   "outputs": [],
   "source": [
    "# Creating variable to categorize high change in monthly CPI change (1 standard dev above mean)\n",
    "cpi_mo_high = cpi_2013_mo_mean + cpi_2013_mo_std"
   ]
  },
  {
   "cell_type": "code",
   "execution_count": 40,
   "id": "40b49442",
   "metadata": {},
   "outputs": [],
   "source": [
    "# Creating variable to categorize low change in monthly CPI change (1 standard dev below mean)\n",
    "cpi_mo_low = cpi_2013_mo_mean - cpi_2013_mo_std"
   ]
  },
  {
   "cell_type": "code",
   "execution_count": 41,
   "id": "a7d7124f",
   "metadata": {},
   "outputs": [],
   "source": [
    "def cpi_cat(cpi_change):\n",
    "    \"\"\"\n",
    "    This function categorizes monthly CPI changes.\n",
    "    A 'High' monthly change is any change 1 standard deviations above the mean.\n",
    "    A 'Low' monthly change is any change 1 standard deviations below the mean.\n",
    "    Anything else is 'Normal'\n",
    "    \n",
    "    Inputs:\n",
    "    Monthly CPI change\n",
    "    \n",
    "    Outputs:\n",
    "    Categorical variables to describe monthly change in CPI ('High', 'Normal', and 'Low')\n",
    "    \"\"\"\n",
    "    if cpi_change > cpi_mo_high:\n",
    "        return 'High'\n",
    "    elif cpi_change < cpi_mo_low:\n",
    "        return 'Low'\n",
    "    else:\n",
    "        return 'Normal'"
   ]
  },
  {
   "cell_type": "code",
   "execution_count": 42,
   "id": "ca6028c2",
   "metadata": {},
   "outputs": [],
   "source": [
    "# Creating categorical columns to describe monthly CPI change\n",
    "cpi_2013_df['CPI Change Cat'] = cpi_2013_df['Mo Change'].apply(cpi_cat)"
   ]
  },
  {
   "cell_type": "code",
   "execution_count": 84,
   "id": "bd5bb95e",
   "metadata": {
    "scrolled": false
   },
   "outputs": [
    {
     "data": {
      "text/html": [
       "<div>\n",
       "<style scoped>\n",
       "    .dataframe tbody tr th:only-of-type {\n",
       "        vertical-align: middle;\n",
       "    }\n",
       "\n",
       "    .dataframe tbody tr th {\n",
       "        vertical-align: top;\n",
       "    }\n",
       "\n",
       "    .dataframe thead th {\n",
       "        text-align: right;\n",
       "    }\n",
       "</style>\n",
       "<table border=\"1\" class=\"dataframe\">\n",
       "  <thead>\n",
       "    <tr style=\"text-align: right;\">\n",
       "      <th></th>\n",
       "      <th>Date</th>\n",
       "      <th>Mo Change</th>\n",
       "      <th>BTC Mo Change</th>\n",
       "      <th>Gold Mo Change</th>\n",
       "      <th>SP 500 Mo Change</th>\n",
       "    </tr>\n",
       "    <tr>\n",
       "      <th>CPI Change Cat</th>\n",
       "      <th></th>\n",
       "      <th></th>\n",
       "      <th></th>\n",
       "      <th></th>\n",
       "      <th></th>\n",
       "    </tr>\n",
       "  </thead>\n",
       "  <tbody>\n",
       "    <tr>\n",
       "      <th>High</th>\n",
       "      <td>16</td>\n",
       "      <td>16</td>\n",
       "      <td>15</td>\n",
       "      <td>15</td>\n",
       "      <td>15</td>\n",
       "    </tr>\n",
       "    <tr>\n",
       "      <th>Low</th>\n",
       "      <td>16</td>\n",
       "      <td>16</td>\n",
       "      <td>16</td>\n",
       "      <td>16</td>\n",
       "      <td>16</td>\n",
       "    </tr>\n",
       "    <tr>\n",
       "      <th>Normal</th>\n",
       "      <td>68</td>\n",
       "      <td>68</td>\n",
       "      <td>65</td>\n",
       "      <td>68</td>\n",
       "      <td>68</td>\n",
       "    </tr>\n",
       "  </tbody>\n",
       "</table>\n",
       "</div>"
      ],
      "text/plain": [
       "                Date  Mo Change  BTC Mo Change  Gold Mo Change  \\\n",
       "CPI Change Cat                                                   \n",
       "High              16         16             15              15   \n",
       "Low               16         16             16              16   \n",
       "Normal            68         68             65              68   \n",
       "\n",
       "                SP 500 Mo Change  \n",
       "CPI Change Cat                    \n",
       "High                          15  \n",
       "Low                           16  \n",
       "Normal                        68  "
      ]
     },
     "execution_count": 84,
     "metadata": {},
     "output_type": "execute_result"
    }
   ],
   "source": [
    "# Finding count of each categorical column for monthly CPI change\n",
    "cpi_2013_df.groupby('CPI Change Cat').count().drop(columns = ['CPI','BTC/USD','Oz Gold/USD', 'SP500'])"
   ]
  },
  {
   "cell_type": "code",
   "execution_count": 44,
   "id": "a2c8d37c",
   "metadata": {
    "scrolled": true
   },
   "outputs": [
    {
     "data": {
      "text/html": [
       "<div>\n",
       "<style scoped>\n",
       "    .dataframe tbody tr th:only-of-type {\n",
       "        vertical-align: middle;\n",
       "    }\n",
       "\n",
       "    .dataframe tbody tr th {\n",
       "        vertical-align: top;\n",
       "    }\n",
       "\n",
       "    .dataframe thead th {\n",
       "        text-align: right;\n",
       "    }\n",
       "</style>\n",
       "<table border=\"1\" class=\"dataframe\">\n",
       "  <thead>\n",
       "    <tr style=\"text-align: right;\">\n",
       "      <th></th>\n",
       "      <th>Date</th>\n",
       "      <th>CPI</th>\n",
       "      <th>Mo Change</th>\n",
       "      <th>BTC/USD</th>\n",
       "      <th>Oz Gold/USD</th>\n",
       "      <th>SP500</th>\n",
       "      <th>BTC Mo Change</th>\n",
       "      <th>Gold Mo Change</th>\n",
       "      <th>SP 500 Mo Change</th>\n",
       "      <th>CPI Change Cat</th>\n",
       "    </tr>\n",
       "  </thead>\n",
       "  <tbody>\n",
       "    <tr>\n",
       "      <th>0</th>\n",
       "      <td>2013-02-01</td>\n",
       "      <td>232.166</td>\n",
       "      <td>0.008190</td>\n",
       "      <td>NaN</td>\n",
       "      <td>1669.0</td>\n",
       "      <td>1513.17</td>\n",
       "      <td>NaN</td>\n",
       "      <td>NaN</td>\n",
       "      <td>NaN</td>\n",
       "      <td>High</td>\n",
       "    </tr>\n",
       "    <tr>\n",
       "      <th>1</th>\n",
       "      <td>2013-03-01</td>\n",
       "      <td>232.773</td>\n",
       "      <td>0.002615</td>\n",
       "      <td>NaN</td>\n",
       "      <td>1582.3</td>\n",
       "      <td>1518.20</td>\n",
       "      <td>NaN</td>\n",
       "      <td>-0.051947</td>\n",
       "      <td>0.003324</td>\n",
       "      <td>Normal</td>\n",
       "    </tr>\n",
       "    <tr>\n",
       "      <th>2</th>\n",
       "      <td>2013-04-01</td>\n",
       "      <td>232.531</td>\n",
       "      <td>-0.001040</td>\n",
       "      <td>NaN</td>\n",
       "      <td>1598.3</td>\n",
       "      <td>1562.17</td>\n",
       "      <td>NaN</td>\n",
       "      <td>0.010112</td>\n",
       "      <td>0.028962</td>\n",
       "      <td>Normal</td>\n",
       "    </tr>\n",
       "    <tr>\n",
       "      <th>3</th>\n",
       "      <td>2013-05-01</td>\n",
       "      <td>232.945</td>\n",
       "      <td>0.001780</td>\n",
       "      <td>116.989998</td>\n",
       "      <td>1454.8</td>\n",
       "      <td>1582.70</td>\n",
       "      <td>NaN</td>\n",
       "      <td>-0.089783</td>\n",
       "      <td>0.013142</td>\n",
       "      <td>Normal</td>\n",
       "    </tr>\n",
       "    <tr>\n",
       "      <th>4</th>\n",
       "      <td>2013-06-01</td>\n",
       "      <td>233.504</td>\n",
       "      <td>0.002400</td>\n",
       "      <td>129.300003</td>\n",
       "      <td>NaN</td>\n",
       "      <td>NaN</td>\n",
       "      <td>0.105223</td>\n",
       "      <td>0.000000</td>\n",
       "      <td>0.000000</td>\n",
       "      <td>Normal</td>\n",
       "    </tr>\n",
       "    <tr>\n",
       "      <th>...</th>\n",
       "      <td>...</td>\n",
       "      <td>...</td>\n",
       "      <td>...</td>\n",
       "      <td>...</td>\n",
       "      <td>...</td>\n",
       "      <td>...</td>\n",
       "      <td>...</td>\n",
       "      <td>...</td>\n",
       "      <td>...</td>\n",
       "      <td>...</td>\n",
       "    </tr>\n",
       "    <tr>\n",
       "      <th>95</th>\n",
       "      <td>2021-01-01</td>\n",
       "      <td>261.582</td>\n",
       "      <td>0.004254</td>\n",
       "      <td>29374.151889</td>\n",
       "      <td>NaN</td>\n",
       "      <td>NaN</td>\n",
       "      <td>0.562206</td>\n",
       "      <td>0.000000</td>\n",
       "      <td>0.000000</td>\n",
       "      <td>Normal</td>\n",
       "    </tr>\n",
       "    <tr>\n",
       "      <th>96</th>\n",
       "      <td>2021-02-01</td>\n",
       "      <td>263.014</td>\n",
       "      <td>0.005474</td>\n",
       "      <td>33537.176820</td>\n",
       "      <td>NaN</td>\n",
       "      <td>3773.86</td>\n",
       "      <td>0.141724</td>\n",
       "      <td>0.000000</td>\n",
       "      <td>0.030420</td>\n",
       "      <td>High</td>\n",
       "    </tr>\n",
       "    <tr>\n",
       "      <th>97</th>\n",
       "      <td>2021-03-01</td>\n",
       "      <td>264.877</td>\n",
       "      <td>0.007083</td>\n",
       "      <td>49631.241371</td>\n",
       "      <td>NaN</td>\n",
       "      <td>3901.82</td>\n",
       "      <td>0.479887</td>\n",
       "      <td>0.000000</td>\n",
       "      <td>0.033907</td>\n",
       "      <td>High</td>\n",
       "    </tr>\n",
       "    <tr>\n",
       "      <th>98</th>\n",
       "      <td>2021-04-01</td>\n",
       "      <td>267.054</td>\n",
       "      <td>0.008219</td>\n",
       "      <td>59095.807978</td>\n",
       "      <td>NaN</td>\n",
       "      <td>4019.87</td>\n",
       "      <td>0.190698</td>\n",
       "      <td>0.000000</td>\n",
       "      <td>0.030255</td>\n",
       "      <td>High</td>\n",
       "    </tr>\n",
       "    <tr>\n",
       "      <th>99</th>\n",
       "      <td>2021-05-01</td>\n",
       "      <td>269.195</td>\n",
       "      <td>0.008017</td>\n",
       "      <td>57828.050632</td>\n",
       "      <td>NaN</td>\n",
       "      <td>NaN</td>\n",
       "      <td>-0.021453</td>\n",
       "      <td>0.000000</td>\n",
       "      <td>0.000000</td>\n",
       "      <td>High</td>\n",
       "    </tr>\n",
       "  </tbody>\n",
       "</table>\n",
       "<p>100 rows × 10 columns</p>\n",
       "</div>"
      ],
      "text/plain": [
       "         Date      CPI  Mo Change       BTC/USD  Oz Gold/USD    SP500  \\\n",
       "0  2013-02-01  232.166   0.008190           NaN       1669.0  1513.17   \n",
       "1  2013-03-01  232.773   0.002615           NaN       1582.3  1518.20   \n",
       "2  2013-04-01  232.531  -0.001040           NaN       1598.3  1562.17   \n",
       "3  2013-05-01  232.945   0.001780    116.989998       1454.8  1582.70   \n",
       "4  2013-06-01  233.504   0.002400    129.300003          NaN      NaN   \n",
       "..        ...      ...        ...           ...          ...      ...   \n",
       "95 2021-01-01  261.582   0.004254  29374.151889          NaN      NaN   \n",
       "96 2021-02-01  263.014   0.005474  33537.176820          NaN  3773.86   \n",
       "97 2021-03-01  264.877   0.007083  49631.241371          NaN  3901.82   \n",
       "98 2021-04-01  267.054   0.008219  59095.807978          NaN  4019.87   \n",
       "99 2021-05-01  269.195   0.008017  57828.050632          NaN      NaN   \n",
       "\n",
       "    BTC Mo Change  Gold Mo Change  SP 500 Mo Change CPI Change Cat  \n",
       "0             NaN             NaN               NaN           High  \n",
       "1             NaN       -0.051947          0.003324         Normal  \n",
       "2             NaN        0.010112          0.028962         Normal  \n",
       "3             NaN       -0.089783          0.013142         Normal  \n",
       "4        0.105223        0.000000          0.000000         Normal  \n",
       "..            ...             ...               ...            ...  \n",
       "95       0.562206        0.000000          0.000000         Normal  \n",
       "96       0.141724        0.000000          0.030420           High  \n",
       "97       0.479887        0.000000          0.033907           High  \n",
       "98       0.190698        0.000000          0.030255           High  \n",
       "99      -0.021453        0.000000          0.000000           High  \n",
       "\n",
       "[100 rows x 10 columns]"
      ]
     },
     "execution_count": 44,
     "metadata": {},
     "output_type": "execute_result"
    }
   ],
   "source": [
    "cpi_2013_df"
   ]
  },
  {
   "cell_type": "code",
   "execution_count": 69,
   "id": "799b1b40",
   "metadata": {},
   "outputs": [],
   "source": [
    "from scipy.stats import ttest_ind\n",
    "from scipy.stats import mannwhitneyu"
   ]
  },
  {
   "cell_type": "code",
   "execution_count": 46,
   "id": "9605bc6c",
   "metadata": {
    "scrolled": false
   },
   "outputs": [
    {
     "data": {
      "text/plain": [
       "<AxesSubplot:title={'center':'Gold Mo Change'}, xlabel='CPI Change Cat'>"
      ]
     },
     "execution_count": 46,
     "metadata": {},
     "output_type": "execute_result"
    },
    {
     "data": {
      "image/png": "[encoded data removed]",
      "text/plain": [
       "<Figure size 432x288 with 1 Axes>"
      ]
     },
     "metadata": {
      "needs_background": "light"
     },
     "output_type": "display_data"
    }
   ],
   "source": [
    "# Creating boxplot of monthly change in gold based on CPI Change Cat column\n",
    "cpi_2013_df.boxplot(column = 'Gold Mo Change', by = 'CPI Change Cat')"
   ]
  },
  {
   "cell_type": "code",
   "execution_count": 47,
   "id": "98db6dee",
   "metadata": {},
   "outputs": [
    {
     "data": {
      "text/plain": [
       "array([[<AxesSubplot:title={'center':'High'}>,\n",
       "        <AxesSubplot:title={'center':'Low'}>],\n",
       "       [<AxesSubplot:title={'center':'Normal'}>, <AxesSubplot:>]],\n",
       "      dtype=object)"
      ]
     },
     "execution_count": 47,
     "metadata": {},
     "output_type": "execute_result"
    },
    {
     "data": {
      "image/png": "[encoded data removed]",
      "text/plain": [
       "<Figure size 432x288 with 4 Axes>"
      ]
     },
     "metadata": {
      "needs_background": "light"
     },
     "output_type": "display_data"
    }
   ],
   "source": [
    "# Creating histograms of monthly change in gold based on CPI Change Cat column\n",
    "cpi_2013_df.hist(column = 'Gold Mo Change', by = 'CPI Change Cat')"
   ]
  },
  {
   "cell_type": "code",
   "execution_count": 55,
   "id": "d0341aed",
   "metadata": {},
   "outputs": [],
   "source": [
    "# Creating series for different sets of monthly change in gold price based on CPI Change Cat\n",
    "high_cpi_mo_gold_change = cpi_2013_df[cpi_2013_df['CPI Change Cat'] == 'High']['Gold Mo Change'].dropna()\n",
    "normal_cpi_mo_gold_change = cpi_2013_df[cpi_2013_df['CPI Change Cat'] == 'Normal']['Gold Mo Change'].dropna()\n",
    "low_cpi_mo_gold_change = cpi_2013_df[cpi_2013_df['CPI Change Cat'] == 'Low']['Gold Mo Change'].dropna()"
   ]
  },
  {
   "cell_type": "code",
   "execution_count": 70,
   "id": "aeac800c",
   "metadata": {},
   "outputs": [
    {
     "data": {
      "text/plain": [
       "MannwhitneyuResult(statistic=506.5, pvalue=0.4854929254963858)"
      ]
     },
     "execution_count": 70,
     "metadata": {},
     "output_type": "execute_result"
    }
   ],
   "source": [
    "# Man Whit U hypothesis test for gold monthly change with high and normal cpi change datasets\n",
    "mannwhitneyu(high_cpi_mo_gold_change, normal_cpi_mo_gold_change)"
   ]
  },
  {
   "cell_type": "code",
   "execution_count": 71,
   "id": "6b9871e9",
   "metadata": {
    "scrolled": true
   },
   "outputs": [
    {
     "data": {
      "text/plain": [
       "MannwhitneyuResult(statistic=101.0, pvalue=0.22721355472849947)"
      ]
     },
     "execution_count": 71,
     "metadata": {},
     "output_type": "execute_result"
    }
   ],
   "source": [
    "# Man Whit U hypothesis test for gold monthly change with high and low cpi change datasets\n",
    "mannwhitneyu(high_cpi_mo_gold_change, low_cpi_mo_gold_change)"
   ]
  },
  {
   "cell_type": "code",
   "execution_count": 72,
   "id": "7addfd70",
   "metadata": {
    "scrolled": false
   },
   "outputs": [
    {
     "data": {
      "text/plain": [
       "MannwhitneyuResult(statistic=488.0, pvalue=0.26012491973270596)"
      ]
     },
     "execution_count": 72,
     "metadata": {},
     "output_type": "execute_result"
    }
   ],
   "source": [
    "# Man Whit U hypothesis test for gold monthly change with low and normal cpi change datasets\n",
    "mannwhitneyu(normal_cpi_mo_gold_change, low_cpi_mo_gold_change)"
   ]
  },
  {
   "cell_type": "code",
   "execution_count": 52,
   "id": "3b0cd4f9",
   "metadata": {
    "scrolled": true
   },
   "outputs": [
    {
     "data": {
      "text/plain": [
       "<AxesSubplot:title={'center':'BTC Mo Change'}, xlabel='CPI Change Cat'>"
      ]
     },
     "execution_count": 52,
     "metadata": {},
     "output_type": "execute_result"
    },
    {
     "data": {
      "image/png": "[encoded data removed]",
      "text/plain": [
       "<Figure size 432x288 with 1 Axes>"
      ]
     },
     "metadata": {
      "needs_background": "light"
     },
     "output_type": "display_data"
    }
   ],
   "source": [
    "# Creating boxplot of monthly change in BTC based on CPI Change Cat column\n",
    "cpi_2013_df.boxplot(column = 'BTC Mo Change', by = 'CPI Change Cat')"
   ]
  },
  {
   "cell_type": "code",
   "execution_count": 53,
   "id": "40de7989",
   "metadata": {},
   "outputs": [
    {
     "data": {
      "text/plain": [
       "array([[<AxesSubplot:title={'center':'High'}>,\n",
       "        <AxesSubplot:title={'center':'Low'}>],\n",
       "       [<AxesSubplot:title={'center':'Normal'}>, <AxesSubplot:>]],\n",
       "      dtype=object)"
      ]
     },
     "execution_count": 53,
     "metadata": {},
     "output_type": "execute_result"
    },
    {
     "data": {
      "image/png": "[encoded data removed]",
      "text/plain": [
       "<Figure size 432x288 with 4 Axes>"
      ]
     },
     "metadata": {
      "needs_background": "light"
     },
     "output_type": "display_data"
    }
   ],
   "source": [
    "# Creating histogram of monthly change in BTC based on CPI Change Cat column\n",
    "cpi_2013_df.hist(column = 'BTC Mo Change', by = 'CPI Change Cat')"
   ]
  },
  {
   "cell_type": "code",
   "execution_count": 56,
   "id": "ab45cf1b",
   "metadata": {},
   "outputs": [],
   "source": [
    "# Creating series for different sets of monthly change in BTC price based on CPI Change Cat\n",
    "high_cpi_mo_btc_change = cpi_2013_df[cpi_2013_df['CPI Change Cat'] == 'High']['BTC Mo Change'].dropna()\n",
    "normal_cpi_mo_btc_change = cpi_2013_df[cpi_2013_df['CPI Change Cat'] == 'Normal']['BTC Mo Change'].dropna()\n",
    "low_cpi_mo_btc_change = cpi_2013_df[cpi_2013_df['CPI Change Cat'] == 'Low']['BTC Mo Change'].dropna()"
   ]
  },
  {
   "cell_type": "code",
   "execution_count": 73,
   "id": "087ac892",
   "metadata": {},
   "outputs": [
    {
     "data": {
      "text/plain": [
       "MannwhitneyuResult(statistic=424.0, pvalue=0.2187032214511797)"
      ]
     },
     "execution_count": 73,
     "metadata": {},
     "output_type": "execute_result"
    }
   ],
   "source": [
    "# Man Whit U hypothesis test for BTC monthly change with high and normal cpi change datasets\n",
    "mannwhitneyu(high_cpi_mo_btc_change, normal_cpi_mo_btc_change)"
   ]
  },
  {
   "cell_type": "code",
   "execution_count": 74,
   "id": "292fe1a3",
   "metadata": {
    "scrolled": true
   },
   "outputs": [
    {
     "data": {
      "text/plain": [
       "MannwhitneyuResult(statistic=82.0, pvalue=0.06912789663878395)"
      ]
     },
     "execution_count": 74,
     "metadata": {},
     "output_type": "execute_result"
    }
   ],
   "source": [
    "# Man Whit U hypothesis test for BTC monthly change with low and high cpi change datasets\n",
    "mannwhitneyu(high_cpi_mo_btc_change, low_cpi_mo_btc_change)"
   ]
  },
  {
   "cell_type": "code",
   "execution_count": 75,
   "id": "bcb29fdd",
   "metadata": {
    "scrolled": false
   },
   "outputs": [
    {
     "data": {
      "text/plain": [
       "MannwhitneyuResult(statistic=412.0, pvalue=0.1011206918422144)"
      ]
     },
     "execution_count": 75,
     "metadata": {},
     "output_type": "execute_result"
    }
   ],
   "source": [
    "# Man Whit U hypothesis test for BTC monthly change with low and normal cpi change datasets\n",
    "mannwhitneyu(normal_cpi_mo_btc_change, low_cpi_mo_btc_change)"
   ]
  },
  {
   "cell_type": "code",
   "execution_count": 60,
   "id": "d2b00a98",
   "metadata": {
    "scrolled": true
   },
   "outputs": [
    {
     "data": {
      "text/plain": [
       "<AxesSubplot:title={'center':'SP 500 Mo Change'}, xlabel='CPI Change Cat'>"
      ]
     },
     "execution_count": 60,
     "metadata": {},
     "output_type": "execute_result"
    },
    {
     "data": {
      "image/png": "[encoded data removed]",
      "text/plain": [
       "<Figure size 432x288 with 1 Axes>"
      ]
     },
     "metadata": {
      "needs_background": "light"
     },
     "output_type": "display_data"
    }
   ],
   "source": [
    "# Creating boxplot of monthly change in S&P 500 based on CPI Change Cat column\n",
    "cpi_2013_df.boxplot(column = 'SP 500 Mo Change', by = 'CPI Change Cat')"
   ]
  },
  {
   "cell_type": "code",
   "execution_count": 61,
   "id": "95e193b3",
   "metadata": {},
   "outputs": [
    {
     "data": {
      "text/plain": [
       "array([[<AxesSubplot:title={'center':'High'}>,\n",
       "        <AxesSubplot:title={'center':'Low'}>],\n",
       "       [<AxesSubplot:title={'center':'Normal'}>, <AxesSubplot:>]],\n",
       "      dtype=object)"
      ]
     },
     "execution_count": 61,
     "metadata": {},
     "output_type": "execute_result"
    },
    {
     "data": {
      "image/png": "[encoded data removed]",
      "text/plain": [
       "<Figure size 432x288 with 4 Axes>"
      ]
     },
     "metadata": {
      "needs_background": "light"
     },
     "output_type": "display_data"
    }
   ],
   "source": [
    "# Creating histograms of monthly change in S&P 500 based on CPI Change Cat column\n",
    "cpi_2013_df.hist(column = 'SP 500 Mo Change', by = 'CPI Change Cat')"
   ]
  },
  {
   "cell_type": "code",
   "execution_count": 62,
   "id": "f28b890b",
   "metadata": {},
   "outputs": [],
   "source": [
    "# Creating series for different sets of monthly change in S&P 500 price based on CPI Change Cat\n",
    "high_cpi_mo_sp_change = cpi_2013_df[cpi_2013_df['CPI Change Cat'] == 'High']['SP 500 Mo Change'].dropna()\n",
    "normal_cpi_mo_sp_change = cpi_2013_df[cpi_2013_df['CPI Change Cat'] == 'Normal']['SP 500 Mo Change'].dropna()\n",
    "low_cpi_mo_sp_change = cpi_2013_df[cpi_2013_df['CPI Change Cat'] == 'Low']['SP 500 Mo Change'].dropna()"
   ]
  },
  {
   "cell_type": "code",
   "execution_count": 76,
   "id": "ac727ff4",
   "metadata": {},
   "outputs": [
    {
     "data": {
      "text/plain": [
       "MannwhitneyuResult(statistic=373.5, pvalue=0.04869364572070888)"
      ]
     },
     "execution_count": 76,
     "metadata": {},
     "output_type": "execute_result"
    }
   ],
   "source": [
    "# Man Whit U hypothesis test for S&P 500 monthly change with high and normal cpi change datasets\n",
    "mannwhitneyu(high_cpi_mo_sp_change, normal_cpi_mo_sp_change)"
   ]
  },
  {
   "cell_type": "code",
   "execution_count": 77,
   "id": "da7cf022",
   "metadata": {
    "scrolled": true
   },
   "outputs": [
    {
     "data": {
      "text/plain": [
       "MannwhitneyuResult(statistic=66.5, pvalue=0.016554888338083714)"
      ]
     },
     "execution_count": 77,
     "metadata": {},
     "output_type": "execute_result"
    }
   ],
   "source": [
    "# Man Whit U hypothesis test for S&P 500 monthly change with low and high cpi change datasets\n",
    "mannwhitneyu(high_cpi_mo_sp_change, low_cpi_mo_sp_change)"
   ]
  },
  {
   "cell_type": "code",
   "execution_count": 78,
   "id": "427d9c2f",
   "metadata": {
    "scrolled": true
   },
   "outputs": [
    {
     "data": {
      "text/plain": [
       "MannwhitneyuResult(statistic=395.5, pvalue=0.04141709338500382)"
      ]
     },
     "execution_count": 78,
     "metadata": {},
     "output_type": "execute_result"
    }
   ],
   "source": [
    "# Man Whit U hypothesis test for S&P 500 monthly change with low and normal cpi change datasets\n",
    "mannwhitneyu(normal_cpi_mo_sp_change, low_cpi_mo_sp_change)"
   ]
  },
  {
   "cell_type": "code",
   "execution_count": 79,
   "id": "416433a1",
   "metadata": {},
   "outputs": [],
   "source": [
    "# Creating dictionary with various p-values from above analysis of Gold, BTC and S&P 500 monthly changes\n",
    "mw_u_cpi_2013 = {'Gold pvalues':[0.48549, 0.22721, 0.26012], 'BTC pvalues':[0.21870, 0.06913, 0.10112], \\\n",
    "                 'SP500 pvalues':[0.04869, 0.01655, 0.04142]}"
   ]
  },
  {
   "cell_type": "code",
   "execution_count": 81,
   "id": "659d0524",
   "metadata": {
    "scrolled": false
   },
   "outputs": [],
   "source": [
    "mw_u_cpi_2013_df = pd.DataFrame.from_dict(mw_u_cpi_2013, orient='index', columns = ['High/Normal', 'High/Low', 'Normal/Low'])"
   ]
  },
  {
   "cell_type": "code",
   "execution_count": 85,
   "id": "84115cf1",
   "metadata": {
    "scrolled": false
   },
   "outputs": [
    {
     "data": {
      "text/html": [
       "<div>\n",
       "<style scoped>\n",
       "    .dataframe tbody tr th:only-of-type {\n",
       "        vertical-align: middle;\n",
       "    }\n",
       "\n",
       "    .dataframe tbody tr th {\n",
       "        vertical-align: top;\n",
       "    }\n",
       "\n",
       "    .dataframe thead th {\n",
       "        text-align: right;\n",
       "    }\n",
       "</style>\n",
       "<table border=\"1\" class=\"dataframe\">\n",
       "  <thead>\n",
       "    <tr style=\"text-align: right;\">\n",
       "      <th></th>\n",
       "      <th>High/Normal</th>\n",
       "      <th>High/Low</th>\n",
       "      <th>Normal/Low</th>\n",
       "    </tr>\n",
       "  </thead>\n",
       "  <tbody>\n",
       "    <tr>\n",
       "      <th>Gold pvalues</th>\n",
       "      <td>0.48549</td>\n",
       "      <td>0.22721</td>\n",
       "      <td>0.26012</td>\n",
       "    </tr>\n",
       "    <tr>\n",
       "      <th>BTC pvalues</th>\n",
       "      <td>0.21870</td>\n",
       "      <td>0.06913</td>\n",
       "      <td>0.10112</td>\n",
       "    </tr>\n",
       "    <tr>\n",
       "      <th>SP500 pvalues</th>\n",
       "      <td>0.04869</td>\n",
       "      <td>0.01655</td>\n",
       "      <td>0.04142</td>\n",
       "    </tr>\n",
       "  </tbody>\n",
       "</table>\n",
       "</div>"
      ],
      "text/plain": [
       "               High/Normal  High/Low  Normal/Low\n",
       "Gold pvalues       0.48549   0.22721     0.26012\n",
       "BTC pvalues        0.21870   0.06913     0.10112\n",
       "SP500 pvalues      0.04869   0.01655     0.04142"
      ]
     },
     "execution_count": 85,
     "metadata": {},
     "output_type": "execute_result"
    }
   ],
   "source": [
    "mw_u_cpi_2013_df"
   ]
  },
  {
   "cell_type": "code",
   "execution_count": 82,
   "id": "a25d507d",
   "metadata": {
    "scrolled": false
   },
   "outputs": [
    {
     "data": {
      "text/plain": [
       "<AxesSubplot:title={'center':'P-Values for Gold, and S&P 500 Monthly Changes for various CPI Change Cats'}>"
      ]
     },
     "execution_count": 82,
     "metadata": {},
     "output_type": "execute_result"
    },
    {
     "data": {
      "image/png": "[encoded data removed]",
      "text/plain": [
       "<Figure size 432x288 with 1 Axes>"
      ]
     },
     "metadata": {
      "needs_background": "light"
     },
     "output_type": "display_data"
    }
   ],
   "source": [
    "# Creating bar chart for various p-values from above analysis of Gold, BTC and S&P 500 monthly changes\n",
    "mw_u_cpi_2013_df.plot.bar(title = 'P-Values for Gold, and S&P 500 Monthly Changes for various CPI Change Cats')"
   ]
  },
  {
   "cell_type": "code",
   "execution_count": 83,
   "id": "fab30ca2",
   "metadata": {
    "scrolled": true
   },
   "outputs": [
    {
     "data": {
      "text/html": [
       "<div>\n",
       "<style scoped>\n",
       "    .dataframe tbody tr th:only-of-type {\n",
       "        vertical-align: middle;\n",
       "    }\n",
       "\n",
       "    .dataframe tbody tr th {\n",
       "        vertical-align: top;\n",
       "    }\n",
       "\n",
       "    .dataframe thead th {\n",
       "        text-align: right;\n",
       "    }\n",
       "</style>\n",
       "<table border=\"1\" class=\"dataframe\">\n",
       "  <thead>\n",
       "    <tr style=\"text-align: right;\">\n",
       "      <th></th>\n",
       "      <th>Mo Change</th>\n",
       "      <th>BTC Mo Change</th>\n",
       "      <th>Gold Mo Change</th>\n",
       "      <th>SP 500 Mo Change</th>\n",
       "    </tr>\n",
       "    <tr>\n",
       "      <th>CPI Change Cat</th>\n",
       "      <th></th>\n",
       "      <th></th>\n",
       "      <th></th>\n",
       "      <th></th>\n",
       "    </tr>\n",
       "  </thead>\n",
       "  <tbody>\n",
       "    <tr>\n",
       "      <th>High</th>\n",
       "      <td>0.006078</td>\n",
       "      <td>0.141161</td>\n",
       "      <td>0.003030</td>\n",
       "      <td>0.021580</td>\n",
       "    </tr>\n",
       "    <tr>\n",
       "      <th>Low</th>\n",
       "      <td>-0.003140</td>\n",
       "      <td>0.009219</td>\n",
       "      <td>-0.000175</td>\n",
       "      <td>-0.012174</td>\n",
       "    </tr>\n",
       "    <tr>\n",
       "      <th>Normal</th>\n",
       "      <td>0.001613</td>\n",
       "      <td>0.133613</td>\n",
       "      <td>0.002327</td>\n",
       "      <td>0.013701</td>\n",
       "    </tr>\n",
       "  </tbody>\n",
       "</table>\n",
       "</div>"
      ],
      "text/plain": [
       "                Mo Change  BTC Mo Change  Gold Mo Change  SP 500 Mo Change\n",
       "CPI Change Cat                                                            \n",
       "High             0.006078       0.141161        0.003030          0.021580\n",
       "Low             -0.003140       0.009219       -0.000175         -0.012174\n",
       "Normal           0.001613       0.133613        0.002327          0.013701"
      ]
     },
     "execution_count": 83,
     "metadata": {},
     "output_type": "execute_result"
    }
   ],
   "source": [
    "# Finding mean of columns grouping by CPI Change Cat column\n",
    "cpi_2013_df.groupby('CPI Change Cat').agg('mean').drop(columns = ['CPI','BTC/USD','Oz Gold/USD', 'SP500'])"
   ]
  }
 ],
 "metadata": {
  "kernelspec": {
   "display_name": "Python 3",
   "language": "python",
   "name": "python3"
  },
  "language_info": {
   "codemirror_mode": {
    "name": "ipython",
    "version": 3
   },
   "file_extension": ".py",
   "mimetype": "text/x-python",
   "name": "python",
   "nbconvert_exporter": "python",
   "pygments_lexer": "ipython3",
   "version": "3.8.8"
  }
 },
 "nbformat": 4,
 "nbformat_minor": 5
}
