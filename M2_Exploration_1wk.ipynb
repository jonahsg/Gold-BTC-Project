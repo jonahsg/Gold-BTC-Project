{
 "cells": [
  {
   "cell_type": "code",
   "execution_count": 1,
   "id": "3573c7ea",
   "metadata": {},
   "outputs": [],
   "source": [
    "import pandas as pd\n",
    "import numpy as np"
   ]
  },
  {
   "cell_type": "code",
   "execution_count": 2,
   "id": "e87c4c20",
   "metadata": {},
   "outputs": [],
   "source": [
    "%store -r m2_df"
   ]
  },
  {
   "cell_type": "code",
   "execution_count": 3,
   "id": "aa603a00",
   "metadata": {
    "scrolled": true
   },
   "outputs": [
    {
     "data": {
      "text/html": [
       "<div>\n",
       "<style scoped>\n",
       "    .dataframe tbody tr th:only-of-type {\n",
       "        vertical-align: middle;\n",
       "    }\n",
       "\n",
       "    .dataframe tbody tr th {\n",
       "        vertical-align: top;\n",
       "    }\n",
       "\n",
       "    .dataframe thead th {\n",
       "        text-align: right;\n",
       "    }\n",
       "</style>\n",
       "<table border=\"1\" class=\"dataframe\">\n",
       "  <thead>\n",
       "    <tr style=\"text-align: right;\">\n",
       "      <th></th>\n",
       "      <th>Date</th>\n",
       "      <th>M2</th>\n",
       "    </tr>\n",
       "  </thead>\n",
       "  <tbody>\n",
       "    <tr>\n",
       "      <th>0</th>\n",
       "      <td>1980-11-03</td>\n",
       "      <td>1591.4</td>\n",
       "    </tr>\n",
       "    <tr>\n",
       "      <th>1</th>\n",
       "      <td>1980-11-10</td>\n",
       "      <td>1592.9</td>\n",
       "    </tr>\n",
       "    <tr>\n",
       "      <th>2</th>\n",
       "      <td>1980-11-17</td>\n",
       "      <td>1596.3</td>\n",
       "    </tr>\n",
       "    <tr>\n",
       "      <th>3</th>\n",
       "      <td>1980-11-24</td>\n",
       "      <td>1597.2</td>\n",
       "    </tr>\n",
       "    <tr>\n",
       "      <th>4</th>\n",
       "      <td>1980-12-01</td>\n",
       "      <td>1596.1</td>\n",
       "    </tr>\n",
       "    <tr>\n",
       "      <th>...</th>\n",
       "      <td>...</td>\n",
       "      <td>...</td>\n",
       "    </tr>\n",
       "    <tr>\n",
       "      <th>2096</th>\n",
       "      <td>2021-01-04</td>\n",
       "      <td>19081.0</td>\n",
       "    </tr>\n",
       "    <tr>\n",
       "      <th>2097</th>\n",
       "      <td>2021-01-11</td>\n",
       "      <td>19453.9</td>\n",
       "    </tr>\n",
       "    <tr>\n",
       "      <th>2098</th>\n",
       "      <td>2021-01-18</td>\n",
       "      <td>19470.0</td>\n",
       "    </tr>\n",
       "    <tr>\n",
       "      <th>2099</th>\n",
       "      <td>2021-01-25</td>\n",
       "      <td>19419.6</td>\n",
       "    </tr>\n",
       "    <tr>\n",
       "      <th>2100</th>\n",
       "      <td>2021-02-01</td>\n",
       "      <td>19417.7</td>\n",
       "    </tr>\n",
       "  </tbody>\n",
       "</table>\n",
       "<p>2101 rows × 2 columns</p>\n",
       "</div>"
      ],
      "text/plain": [
       "           Date       M2\n",
       "0    1980-11-03   1591.4\n",
       "1    1980-11-10   1592.9\n",
       "2    1980-11-17   1596.3\n",
       "3    1980-11-24   1597.2\n",
       "4    1980-12-01   1596.1\n",
       "...         ...      ...\n",
       "2096 2021-01-04  19081.0\n",
       "2097 2021-01-11  19453.9\n",
       "2098 2021-01-18  19470.0\n",
       "2099 2021-01-25  19419.6\n",
       "2100 2021-02-01  19417.7\n",
       "\n",
       "[2101 rows x 2 columns]"
      ]
     },
     "execution_count": 3,
     "metadata": {},
     "output_type": "execute_result"
    }
   ],
   "source": [
    "m2_df"
   ]
  },
  {
   "cell_type": "code",
   "execution_count": 4,
   "id": "e5c119a8",
   "metadata": {},
   "outputs": [],
   "source": [
    "m2_1wk_df = m2_df"
   ]
  },
  {
   "cell_type": "code",
   "execution_count": 5,
   "id": "3ed19ed5",
   "metadata": {
    "scrolled": false
   },
   "outputs": [
    {
     "data": {
      "text/html": [
       "<div>\n",
       "<style scoped>\n",
       "    .dataframe tbody tr th:only-of-type {\n",
       "        vertical-align: middle;\n",
       "    }\n",
       "\n",
       "    .dataframe tbody tr th {\n",
       "        vertical-align: top;\n",
       "    }\n",
       "\n",
       "    .dataframe thead th {\n",
       "        text-align: right;\n",
       "    }\n",
       "</style>\n",
       "<table border=\"1\" class=\"dataframe\">\n",
       "  <thead>\n",
       "    <tr style=\"text-align: right;\">\n",
       "      <th></th>\n",
       "      <th>Date</th>\n",
       "      <th>M2</th>\n",
       "    </tr>\n",
       "  </thead>\n",
       "  <tbody>\n",
       "    <tr>\n",
       "      <th>0</th>\n",
       "      <td>1980-11-03</td>\n",
       "      <td>1591.4</td>\n",
       "    </tr>\n",
       "    <tr>\n",
       "      <th>1</th>\n",
       "      <td>1980-11-10</td>\n",
       "      <td>1592.9</td>\n",
       "    </tr>\n",
       "    <tr>\n",
       "      <th>2</th>\n",
       "      <td>1980-11-17</td>\n",
       "      <td>1596.3</td>\n",
       "    </tr>\n",
       "    <tr>\n",
       "      <th>3</th>\n",
       "      <td>1980-11-24</td>\n",
       "      <td>1597.2</td>\n",
       "    </tr>\n",
       "    <tr>\n",
       "      <th>4</th>\n",
       "      <td>1980-12-01</td>\n",
       "      <td>1596.1</td>\n",
       "    </tr>\n",
       "    <tr>\n",
       "      <th>...</th>\n",
       "      <td>...</td>\n",
       "      <td>...</td>\n",
       "    </tr>\n",
       "    <tr>\n",
       "      <th>2096</th>\n",
       "      <td>2021-01-04</td>\n",
       "      <td>19081.0</td>\n",
       "    </tr>\n",
       "    <tr>\n",
       "      <th>2097</th>\n",
       "      <td>2021-01-11</td>\n",
       "      <td>19453.9</td>\n",
       "    </tr>\n",
       "    <tr>\n",
       "      <th>2098</th>\n",
       "      <td>2021-01-18</td>\n",
       "      <td>19470.0</td>\n",
       "    </tr>\n",
       "    <tr>\n",
       "      <th>2099</th>\n",
       "      <td>2021-01-25</td>\n",
       "      <td>19419.6</td>\n",
       "    </tr>\n",
       "    <tr>\n",
       "      <th>2100</th>\n",
       "      <td>2021-02-01</td>\n",
       "      <td>19417.7</td>\n",
       "    </tr>\n",
       "  </tbody>\n",
       "</table>\n",
       "<p>2101 rows × 2 columns</p>\n",
       "</div>"
      ],
      "text/plain": [
       "           Date       M2\n",
       "0    1980-11-03   1591.4\n",
       "1    1980-11-10   1592.9\n",
       "2    1980-11-17   1596.3\n",
       "3    1980-11-24   1597.2\n",
       "4    1980-12-01   1596.1\n",
       "...         ...      ...\n",
       "2096 2021-01-04  19081.0\n",
       "2097 2021-01-11  19453.9\n",
       "2098 2021-01-18  19470.0\n",
       "2099 2021-01-25  19419.6\n",
       "2100 2021-02-01  19417.7\n",
       "\n",
       "[2101 rows x 2 columns]"
      ]
     },
     "execution_count": 5,
     "metadata": {},
     "output_type": "execute_result"
    }
   ],
   "source": [
    "m2_1wk_df"
   ]
  },
  {
   "cell_type": "code",
   "execution_count": 7,
   "id": "980db050",
   "metadata": {},
   "outputs": [],
   "source": [
    "# Creating column to calculate weekly % change in M2\n",
    "m2_1wk_df['1wk Change'] = m2_1wk_df['M2'].pct_change()"
   ]
  },
  {
   "cell_type": "code",
   "execution_count": 133,
   "id": "bc04edee",
   "metadata": {},
   "outputs": [
    {
     "data": {
      "text/html": [
       "<div>\n",
       "<style scoped>\n",
       "    .dataframe tbody tr th:only-of-type {\n",
       "        vertical-align: middle;\n",
       "    }\n",
       "\n",
       "    .dataframe tbody tr th {\n",
       "        vertical-align: top;\n",
       "    }\n",
       "\n",
       "    .dataframe thead th {\n",
       "        text-align: right;\n",
       "    }\n",
       "</style>\n",
       "<table border=\"1\" class=\"dataframe\">\n",
       "  <thead>\n",
       "    <tr style=\"text-align: right;\">\n",
       "      <th></th>\n",
       "      <th>Date</th>\n",
       "      <th>M2</th>\n",
       "      <th>1wk Change</th>\n",
       "      <th>BTC/USD</th>\n",
       "      <th>Oz Gold/USD</th>\n",
       "      <th>SP500</th>\n",
       "      <th>BTC 1wk Change</th>\n",
       "      <th>Gold 1wk Change</th>\n",
       "      <th>SP 500 1wk Change</th>\n",
       "      <th>M2 Change Cat</th>\n",
       "      <th>M2 Change Cat 2</th>\n",
       "    </tr>\n",
       "  </thead>\n",
       "  <tbody>\n",
       "    <tr>\n",
       "      <th>1089</th>\n",
       "      <td>2001-09-17</td>\n",
       "      <td>5448.0</td>\n",
       "      <td>0.032327</td>\n",
       "      <td>NaN</td>\n",
       "      <td>293.3</td>\n",
       "      <td>NaN</td>\n",
       "      <td>NaN</td>\n",
       "      <td>0.080295</td>\n",
       "      <td>NaN</td>\n",
       "      <td>High</td>\n",
       "      <td>High</td>\n",
       "    </tr>\n",
       "    <tr>\n",
       "      <th>2055</th>\n",
       "      <td>2020-03-23</td>\n",
       "      <td>16163.5</td>\n",
       "      <td>0.027004</td>\n",
       "      <td>6416.314758</td>\n",
       "      <td>1525.4</td>\n",
       "      <td>2237.40</td>\n",
       "      <td>0.279557</td>\n",
       "      <td>0.025341</td>\n",
       "      <td>-0.062331</td>\n",
       "      <td>High</td>\n",
       "      <td>High</td>\n",
       "    </tr>\n",
       "    <tr>\n",
       "      <th>2056</th>\n",
       "      <td>2020-03-30</td>\n",
       "      <td>16545.3</td>\n",
       "      <td>0.023621</td>\n",
       "      <td>6429.841934</td>\n",
       "      <td>1618.3</td>\n",
       "      <td>2626.65</td>\n",
       "      <td>0.002108</td>\n",
       "      <td>0.060902</td>\n",
       "      <td>0.173974</td>\n",
       "      <td>High</td>\n",
       "      <td>High</td>\n",
       "    </tr>\n",
       "    <tr>\n",
       "      <th>2059</th>\n",
       "      <td>2020-04-20</td>\n",
       "      <td>17089.5</td>\n",
       "      <td>0.021568</td>\n",
       "      <td>6881.958693</td>\n",
       "      <td>1686.2</td>\n",
       "      <td>2823.16</td>\n",
       "      <td>0.005394</td>\n",
       "      <td>0.003272</td>\n",
       "      <td>0.022280</td>\n",
       "      <td>High</td>\n",
       "      <td>High</td>\n",
       "    </tr>\n",
       "    <tr>\n",
       "      <th>1455</th>\n",
       "      <td>2008-09-22</td>\n",
       "      <td>7942.2</td>\n",
       "      <td>0.020665</td>\n",
       "      <td>NaN</td>\n",
       "      <td>889.0</td>\n",
       "      <td>NaN</td>\n",
       "      <td>NaN</td>\n",
       "      <td>0.147097</td>\n",
       "      <td>NaN</td>\n",
       "      <td>High</td>\n",
       "      <td>High</td>\n",
       "    </tr>\n",
       "    <tr>\n",
       "      <th>...</th>\n",
       "      <td>...</td>\n",
       "      <td>...</td>\n",
       "      <td>...</td>\n",
       "      <td>...</td>\n",
       "      <td>...</td>\n",
       "      <td>...</td>\n",
       "      <td>...</td>\n",
       "      <td>...</td>\n",
       "      <td>...</td>\n",
       "      <td>...</td>\n",
       "      <td>...</td>\n",
       "    </tr>\n",
       "    <tr>\n",
       "      <th>1261</th>\n",
       "      <td>2005-01-03</td>\n",
       "      <td>6387.9</td>\n",
       "      <td>-0.006887</td>\n",
       "      <td>NaN</td>\n",
       "      <td>435.6</td>\n",
       "      <td>NaN</td>\n",
       "      <td>NaN</td>\n",
       "      <td>-0.012469</td>\n",
       "      <td>NaN</td>\n",
       "      <td>Low</td>\n",
       "      <td>Low</td>\n",
       "    </tr>\n",
       "    <tr>\n",
       "      <th>1190</th>\n",
       "      <td>2003-08-25</td>\n",
       "      <td>6083.8</td>\n",
       "      <td>-0.007747</td>\n",
       "      <td>NaN</td>\n",
       "      <td>358.8</td>\n",
       "      <td>NaN</td>\n",
       "      <td>NaN</td>\n",
       "      <td>-0.004163</td>\n",
       "      <td>NaN</td>\n",
       "      <td>Low</td>\n",
       "      <td>Low</td>\n",
       "    </tr>\n",
       "    <tr>\n",
       "      <th>172</th>\n",
       "      <td>1984-02-20</td>\n",
       "      <td>2137.7</td>\n",
       "      <td>-0.012382</td>\n",
       "      <td>NaN</td>\n",
       "      <td>385.3</td>\n",
       "      <td>NaN</td>\n",
       "      <td>NaN</td>\n",
       "      <td>0.022287</td>\n",
       "      <td>NaN</td>\n",
       "      <td>Low</td>\n",
       "      <td>Low</td>\n",
       "    </tr>\n",
       "    <tr>\n",
       "      <th>1090</th>\n",
       "      <td>2001-09-24</td>\n",
       "      <td>5366.3</td>\n",
       "      <td>-0.014996</td>\n",
       "      <td>NaN</td>\n",
       "      <td>288.2</td>\n",
       "      <td>NaN</td>\n",
       "      <td>NaN</td>\n",
       "      <td>-0.017388</td>\n",
       "      <td>NaN</td>\n",
       "      <td>Low</td>\n",
       "      <td>Low</td>\n",
       "    </tr>\n",
       "    <tr>\n",
       "      <th>0</th>\n",
       "      <td>1980-11-03</td>\n",
       "      <td>1591.4</td>\n",
       "      <td>NaN</td>\n",
       "      <td>NaN</td>\n",
       "      <td>640.5</td>\n",
       "      <td>NaN</td>\n",
       "      <td>NaN</td>\n",
       "      <td>NaN</td>\n",
       "      <td>NaN</td>\n",
       "      <td>Normal</td>\n",
       "      <td>Normal</td>\n",
       "    </tr>\n",
       "  </tbody>\n",
       "</table>\n",
       "<p>2101 rows × 11 columns</p>\n",
       "</div>"
      ],
      "text/plain": [
       "           Date       M2  1wk Change      BTC/USD  Oz Gold/USD    SP500  \\\n",
       "1089 2001-09-17   5448.0    0.032327          NaN        293.3      NaN   \n",
       "2055 2020-03-23  16163.5    0.027004  6416.314758       1525.4  2237.40   \n",
       "2056 2020-03-30  16545.3    0.023621  6429.841934       1618.3  2626.65   \n",
       "2059 2020-04-20  17089.5    0.021568  6881.958693       1686.2  2823.16   \n",
       "1455 2008-09-22   7942.2    0.020665          NaN        889.0      NaN   \n",
       "...         ...      ...         ...          ...          ...      ...   \n",
       "1261 2005-01-03   6387.9   -0.006887          NaN        435.6      NaN   \n",
       "1190 2003-08-25   6083.8   -0.007747          NaN        358.8      NaN   \n",
       "172  1984-02-20   2137.7   -0.012382          NaN        385.3      NaN   \n",
       "1090 2001-09-24   5366.3   -0.014996          NaN        288.2      NaN   \n",
       "0    1980-11-03   1591.4         NaN          NaN        640.5      NaN   \n",
       "\n",
       "      BTC 1wk Change  Gold 1wk Change  SP 500 1wk Change M2 Change Cat  \\\n",
       "1089             NaN         0.080295                NaN          High   \n",
       "2055        0.279557         0.025341          -0.062331          High   \n",
       "2056        0.002108         0.060902           0.173974          High   \n",
       "2059        0.005394         0.003272           0.022280          High   \n",
       "1455             NaN         0.147097                NaN          High   \n",
       "...              ...              ...                ...           ...   \n",
       "1261             NaN        -0.012469                NaN           Low   \n",
       "1190             NaN        -0.004163                NaN           Low   \n",
       "172              NaN         0.022287                NaN           Low   \n",
       "1090             NaN        -0.017388                NaN           Low   \n",
       "0                NaN              NaN                NaN        Normal   \n",
       "\n",
       "     M2 Change Cat 2  \n",
       "1089            High  \n",
       "2055            High  \n",
       "2056            High  \n",
       "2059            High  \n",
       "1455            High  \n",
       "...              ...  \n",
       "1261             Low  \n",
       "1190             Low  \n",
       "172              Low  \n",
       "1090             Low  \n",
       "0             Normal  \n",
       "\n",
       "[2101 rows x 11 columns]"
      ]
     },
     "execution_count": 133,
     "metadata": {},
     "output_type": "execute_result"
    }
   ],
   "source": [
    "# Sorting df by weekly change in M2 to understand effect of stimulus checks on M2\n",
    "m2_1wk_df.sort_values(by = '1wk Change', ascending = False)"
   ]
  },
  {
   "cell_type": "code",
   "execution_count": 8,
   "id": "415bd345",
   "metadata": {
    "scrolled": true
   },
   "outputs": [
    {
     "data": {
      "text/plain": [
       "<AxesSubplot:xlabel='Date'>"
      ]
     },
     "execution_count": 8,
     "metadata": {},
     "output_type": "execute_result"
    },
    {
     "data": {
      "image/png": "[encoded data removed]",
      "text/plain": [
       "<Figure size 432x288 with 1 Axes>"
      ]
     },
     "metadata": {
      "needs_background": "light"
     },
     "output_type": "display_data"
    }
   ],
   "source": [
    "# Plotting line graph of M2 Weekly Change\n",
    "m2_1wk_df.plot(x = 'Date', y = '1wk Change')"
   ]
  },
  {
   "cell_type": "code",
   "execution_count": 126,
   "id": "3591e966",
   "metadata": {
    "scrolled": true
   },
   "outputs": [
    {
     "data": {
      "text/plain": [
       "<AxesSubplot:xlabel='Date', ylabel='M2 Money Supply'>"
      ]
     },
     "execution_count": 126,
     "metadata": {},
     "output_type": "execute_result"
    },
    {
     "data": {
      "image/png": "[encoded data removed]",
      "text/plain": [
       "<Figure size 432x288 with 1 Axes>"
      ]
     },
     "metadata": {
      "needs_background": "light"
     },
     "output_type": "display_data"
    }
   ],
   "source": [
    "# Plotting line graph of M2\n",
    "m2_1wk_df.plot(x = 'Date', y = 'M2', ylabel = 'M2 Money Supply')"
   ]
  },
  {
   "cell_type": "code",
   "execution_count": 10,
   "id": "1b77ff52",
   "metadata": {},
   "outputs": [],
   "source": [
    "%store -r btc_df\n",
    "%store -r gold_usd_df"
   ]
  },
  {
   "cell_type": "code",
   "execution_count": 11,
   "id": "0b171d5c",
   "metadata": {},
   "outputs": [],
   "source": [
    "# Merging in BTC data\n",
    "m2_1wk_df = pd.merge(m2_1wk_df, btc_df, how = 'left', on = 'Date')"
   ]
  },
  {
   "cell_type": "code",
   "execution_count": 12,
   "id": "a06e0659",
   "metadata": {},
   "outputs": [],
   "source": [
    "# Merging in gold data\n",
    "m2_1wk_df = pd.merge(m2_1wk_df, gold_usd_df, how = 'left', on = 'Date')"
   ]
  },
  {
   "cell_type": "code",
   "execution_count": 13,
   "id": "785934ac",
   "metadata": {},
   "outputs": [],
   "source": [
    "%store -r sp500_df"
   ]
  },
  {
   "cell_type": "code",
   "execution_count": 14,
   "id": "1bfab938",
   "metadata": {},
   "outputs": [],
   "source": [
    "# Merging in S&P 500 data\n",
    "m2_1wk_df = pd.merge(m2_1wk_df, sp500_df, how = 'left', on = 'Date')"
   ]
  },
  {
   "cell_type": "code",
   "execution_count": 15,
   "id": "81dede81",
   "metadata": {},
   "outputs": [],
   "source": [
    "# Creating column to calculate weekly % change in BTC\n",
    "m2_1wk_df['BTC 1wk Change'] = m2_1wk_df['BTC/USD'].pct_change()"
   ]
  },
  {
   "cell_type": "code",
   "execution_count": 16,
   "id": "1e3605e0",
   "metadata": {},
   "outputs": [],
   "source": [
    "# Creating column to calculate weekly % change in gold\n",
    "m2_1wk_df['Gold 1wk Change'] = m2_1wk_df['Oz Gold/USD'].pct_change()"
   ]
  },
  {
   "cell_type": "code",
   "execution_count": 17,
   "id": "60ab6c11",
   "metadata": {},
   "outputs": [],
   "source": [
    "# Creating column to calculate weekly % change in S&P 500\n",
    "m2_1wk_df['SP 500 1wk Change'] = m2_1wk_df['SP500'].pct_change()"
   ]
  },
  {
   "cell_type": "code",
   "execution_count": 61,
   "id": "1a0a3184",
   "metadata": {},
   "outputs": [
    {
     "data": {
      "text/plain": [
       "array([[<AxesSubplot:title={'center':'1wk Change'}>]], dtype=object)"
      ]
     },
     "execution_count": 61,
     "metadata": {},
     "output_type": "execute_result"
    },
    {
     "data": {
      "image/png": "[encoded data removed]",
      "text/plain": [
       "<Figure size 720x720 with 1 Axes>"
      ]
     },
     "metadata": {
      "needs_background": "light"
     },
     "output_type": "display_data"
    }
   ],
   "source": [
    "# Creating histogram of M2 weekly change\n",
    "m2_1wk_df.hist(column = '1wk Change', figsize = (10,10), bins = 20)"
   ]
  },
  {
   "cell_type": "code",
   "execution_count": 26,
   "id": "041e5757",
   "metadata": {},
   "outputs": [],
   "source": [
    "# Finding standard dev of M2 weekly change\n",
    "m2_1wk_std = m2_1wk_df['1wk Change'].std()"
   ]
  },
  {
   "cell_type": "code",
   "execution_count": 27,
   "id": "552c0ec9",
   "metadata": {},
   "outputs": [],
   "source": [
    "# Finding mean of M2 weekly change\n",
    "m2_1wk_mean = m2_1wk_df['1wk Change'].mean()"
   ]
  },
  {
   "cell_type": "code",
   "execution_count": 33,
   "id": "63294186",
   "metadata": {},
   "outputs": [],
   "source": [
    "def m2cat(m2_change):\n",
    "     \"\"\"\n",
    "    This function categorizes weekly M2 changes.\n",
    "    A 'High' weekly change is any change 2 standard deviations above the mean.\n",
    "    A 'Low' weekly change is any change 2 standard deviations below the mean.\n",
    "    Anything else is 'Normal'\n",
    "    \n",
    "    Inputs:\n",
    "    Weekly M2 change\n",
    "    \n",
    "    Outputs:\n",
    "    Categorical variables to describe weekly change in M2 ('High', 'Normal', and 'Low')\n",
    "    \"\"\"\n",
    "    if m2_change > m2_1wk_mean + m2_1wk_std*2:\n",
    "        return 'High'\n",
    "    elif m2_change < m2_1wk_mean - m2_1wk_std*2:\n",
    "        return 'Low'\n",
    "    else:\n",
    "        return 'Normal'"
   ]
  },
  {
   "cell_type": "code",
   "execution_count": 34,
   "id": "9dffd33b",
   "metadata": {},
   "outputs": [],
   "source": [
    "# Creating categorical columns to describe weekly M2 change\n",
    "m2_1wk_df['M2 Change Cat'] = m2_1wk_df['1wk Change'].apply(m2cat)"
   ]
  },
  {
   "cell_type": "code",
   "execution_count": 131,
   "id": "4e883bdc",
   "metadata": {
    "scrolled": true
   },
   "outputs": [
    {
     "data": {
      "text/html": [
       "<div>\n",
       "<style scoped>\n",
       "    .dataframe tbody tr th:only-of-type {\n",
       "        vertical-align: middle;\n",
       "    }\n",
       "\n",
       "    .dataframe tbody tr th {\n",
       "        vertical-align: top;\n",
       "    }\n",
       "\n",
       "    .dataframe thead th {\n",
       "        text-align: right;\n",
       "    }\n",
       "</style>\n",
       "<table border=\"1\" class=\"dataframe\">\n",
       "  <thead>\n",
       "    <tr style=\"text-align: right;\">\n",
       "      <th></th>\n",
       "      <th>Date</th>\n",
       "      <th>1wk Change</th>\n",
       "      <th>BTC 1wk Change</th>\n",
       "      <th>Gold 1wk Change</th>\n",
       "      <th>SP 500 1wk Change</th>\n",
       "      <th>M2 Change Cat 2</th>\n",
       "    </tr>\n",
       "    <tr>\n",
       "      <th>M2 Change Cat</th>\n",
       "      <th></th>\n",
       "      <th></th>\n",
       "      <th></th>\n",
       "      <th></th>\n",
       "      <th></th>\n",
       "      <th></th>\n",
       "    </tr>\n",
       "  </thead>\n",
       "  <tbody>\n",
       "    <tr>\n",
       "      <th>High</th>\n",
       "      <td>36</td>\n",
       "      <td>36</td>\n",
       "      <td>15</td>\n",
       "      <td>36</td>\n",
       "      <td>17</td>\n",
       "      <td>36</td>\n",
       "    </tr>\n",
       "    <tr>\n",
       "      <th>Low</th>\n",
       "      <td>23</td>\n",
       "      <td>23</td>\n",
       "      <td>7</td>\n",
       "      <td>23</td>\n",
       "      <td>7</td>\n",
       "      <td>23</td>\n",
       "    </tr>\n",
       "    <tr>\n",
       "      <th>Normal</th>\n",
       "      <td>2042</td>\n",
       "      <td>2041</td>\n",
       "      <td>383</td>\n",
       "      <td>2041</td>\n",
       "      <td>473</td>\n",
       "      <td>2042</td>\n",
       "    </tr>\n",
       "  </tbody>\n",
       "</table>\n",
       "</div>"
      ],
      "text/plain": [
       "               Date  1wk Change  BTC 1wk Change  Gold 1wk Change  \\\n",
       "M2 Change Cat                                                      \n",
       "High             36          36              15               36   \n",
       "Low              23          23               7               23   \n",
       "Normal         2042        2041             383             2041   \n",
       "\n",
       "               SP 500 1wk Change  M2 Change Cat 2  \n",
       "M2 Change Cat                                      \n",
       "High                          17               36  \n",
       "Low                            7               23  \n",
       "Normal                       473             2042  "
      ]
     },
     "execution_count": 131,
     "metadata": {},
     "output_type": "execute_result"
    }
   ],
   "source": [
    "# Finding count of each categorical column for weekly M2 change\n",
    "m2_1wk_df.groupby('M2 Change Cat').count().drop(columns = ['M2','BTC/USD','Oz Gold/USD', 'SP500'])"
   ]
  },
  {
   "cell_type": "code",
   "execution_count": 37,
   "id": "93f2ab3f",
   "metadata": {
    "scrolled": false
   },
   "outputs": [
    {
     "data": {
      "text/plain": [
       "<AxesSubplot:title={'center':'Gold 1wk Change'}, xlabel='M2 Change Cat'>"
      ]
     },
     "execution_count": 37,
     "metadata": {},
     "output_type": "execute_result"
    },
    {
     "data": {
      "image/png": "[encoded data removed]",
      "text/plain": [
       "<Figure size 432x288 with 1 Axes>"
      ]
     },
     "metadata": {
      "needs_background": "light"
     },
     "output_type": "display_data"
    }
   ],
   "source": [
    "# Creating boxplot of weekly change in gold based on M2 Change Cat column\n",
    "m2_1wk_df.boxplot(column = 'Gold 1wk Change', by = 'M2 Change Cat')"
   ]
  },
  {
   "cell_type": "code",
   "execution_count": 65,
   "id": "a8d4d7c8",
   "metadata": {},
   "outputs": [
    {
     "data": {
      "text/plain": [
       "array([[<AxesSubplot:title={'center':'High'}>,\n",
       "        <AxesSubplot:title={'center':'Low'}>],\n",
       "       [<AxesSubplot:title={'center':'Normal'}>, <AxesSubplot:>]],\n",
       "      dtype=object)"
      ]
     },
     "execution_count": 65,
     "metadata": {},
     "output_type": "execute_result"
    },
    {
     "data": {
      "image/png": "[encoded data removed]",
      "text/plain": [
       "<Figure size 432x288 with 4 Axes>"
      ]
     },
     "metadata": {
      "needs_background": "light"
     },
     "output_type": "display_data"
    }
   ],
   "source": [
    "# Creating histograms of weekly change in gold based on M2 Change Cat column\n",
    "m2_1wk_df.hist(column = 'Gold 1wk Change', by = 'M2 Change Cat')"
   ]
  },
  {
   "cell_type": "code",
   "execution_count": 43,
   "id": "38c84a07",
   "metadata": {},
   "outputs": [],
   "source": [
    "from scipy.stats import ttest_ind"
   ]
  },
  {
   "cell_type": "code",
   "execution_count": 68,
   "id": "579ebba1",
   "metadata": {},
   "outputs": [],
   "source": [
    "from scipy.stats import mannwhitneyu"
   ]
  },
  {
   "cell_type": "code",
   "execution_count": 48,
   "id": "7ffdffe1",
   "metadata": {},
   "outputs": [],
   "source": [
    "# Creating series for different sets of weekly change in gold price based on M2 Change Cat\n",
    "high_m2_1wk_gold_change = m2_1wk_df[m2_1wk_df['M2 Change Cat'] == 'High']['Gold 1wk Change'].dropna()\n",
    "normal_m2_1wk_gold_change = m2_1wk_df[m2_1wk_df['M2 Change Cat'] == 'Normal']['Gold 1wk Change'].dropna()\n",
    "low_m2_1wk_gold_change = m2_1wk_df[m2_1wk_df['M2 Change Cat'] == 'Low']['Gold 1wk Change'].dropna()"
   ]
  },
  {
   "cell_type": "code",
   "execution_count": 69,
   "id": "cf1b81de",
   "metadata": {},
   "outputs": [
    {
     "data": {
      "text/plain": [
       "MannwhitneyuResult(statistic=34425.0, pvalue=0.2583947868183374)"
      ]
     },
     "execution_count": 69,
     "metadata": {},
     "output_type": "execute_result"
    }
   ],
   "source": [
    "# Man Whit U hypothesis test for gold weekly change with high and normal M2 change datasets\n",
    "mannwhitneyu(high_m2_1wk_gold_change, normal_m2_1wk_gold_change)"
   ]
  },
  {
   "cell_type": "code",
   "execution_count": 70,
   "id": "78097e36",
   "metadata": {
    "scrolled": true
   },
   "outputs": [
    {
     "data": {
      "text/plain": [
       "MannwhitneyuResult(statistic=331.5, pvalue=0.10114126462696998)"
      ]
     },
     "execution_count": 70,
     "metadata": {},
     "output_type": "execute_result"
    }
   ],
   "source": [
    "# Man Whit U hypothesis test for gold weekly change with high and low M2 change datasets\n",
    "mannwhitneyu(high_m2_1wk_gold_change, low_m2_1wk_gold_change)"
   ]
  },
  {
   "cell_type": "code",
   "execution_count": 71,
   "id": "c705b1f3",
   "metadata": {
    "scrolled": false
   },
   "outputs": [
    {
     "data": {
      "text/plain": [
       "MannwhitneyuResult(statistic=19307.0, pvalue=0.07145177441057432)"
      ]
     },
     "execution_count": 71,
     "metadata": {},
     "output_type": "execute_result"
    }
   ],
   "source": [
    "# Man Whit U hypothesis test for gold weekly change with normal and low M2 change datasets\n",
    "mannwhitneyu(normal_m2_1wk_gold_change, low_m2_1wk_gold_change)"
   ]
  },
  {
   "cell_type": "code",
   "execution_count": 67,
   "id": "c267223e",
   "metadata": {},
   "outputs": [
    {
     "data": {
      "text/plain": [
       "array([[<AxesSubplot:title={'center':'High'}>,\n",
       "        <AxesSubplot:title={'center':'Low'}>],\n",
       "       [<AxesSubplot:title={'center':'Normal'}>, <AxesSubplot:>]],\n",
       "      dtype=object)"
      ]
     },
     "execution_count": 67,
     "metadata": {},
     "output_type": "execute_result"
    },
    {
     "data": {
      "image/png": "[encoded data removed]",
      "text/plain": [
       "<Figure size 432x288 with 4 Axes>"
      ]
     },
     "metadata": {
      "needs_background": "light"
     },
     "output_type": "display_data"
    }
   ],
   "source": [
    "# Creating histograms of weekly change in BTC based on M2 Change Cat column\n",
    "m2_1wk_df.hist(column = 'BTC 1wk Change', by = 'M2 Change Cat')"
   ]
  },
  {
   "cell_type": "code",
   "execution_count": 38,
   "id": "a24cc965",
   "metadata": {
    "scrolled": true
   },
   "outputs": [
    {
     "data": {
      "text/plain": [
       "<AxesSubplot:title={'center':'BTC 1wk Change'}, xlabel='M2 Change Cat'>"
      ]
     },
     "execution_count": 38,
     "metadata": {},
     "output_type": "execute_result"
    },
    {
     "data": {
      "image/png": "[encoded data removed]",
      "text/plain": [
       "<Figure size 432x288 with 1 Axes>"
      ]
     },
     "metadata": {
      "needs_background": "light"
     },
     "output_type": "display_data"
    }
   ],
   "source": [
    "# Creating boxplot of weekly change in BTC based on M2 Change Cat column\n",
    "m2_1wk_df.boxplot(column = 'BTC 1wk Change', by = 'M2 Change Cat')"
   ]
  },
  {
   "cell_type": "code",
   "execution_count": 52,
   "id": "4e529361",
   "metadata": {},
   "outputs": [],
   "source": [
    "# Creating series for different sets of weekly change in BTC price based on M2 Change Cat\n",
    "high_m2_1wk_BTC_change = m2_1wk_df[m2_1wk_df['M2 Change Cat'] == 'High']['BTC 1wk Change'].dropna()\n",
    "normal_m2_1wk_BTC_change = m2_1wk_df[m2_1wk_df['M2 Change Cat'] == 'Normal']['BTC 1wk Change'].dropna()\n",
    "low_m2_1wk_BTC_change = m2_1wk_df[m2_1wk_df['M2 Change Cat'] == 'Low']['BTC 1wk Change'].dropna()"
   ]
  },
  {
   "cell_type": "code",
   "execution_count": 72,
   "id": "c8878ed2",
   "metadata": {},
   "outputs": [
    {
     "data": {
      "text/plain": [
       "MannwhitneyuResult(statistic=2552.0, pvalue=0.232033843228248)"
      ]
     },
     "execution_count": 72,
     "metadata": {},
     "output_type": "execute_result"
    }
   ],
   "source": [
    "# Man Whit U hypothesis test for BTC weekly change with high and normal M2 change datasets\n",
    "mannwhitneyu(high_m2_1wk_BTC_change, normal_m2_1wk_BTC_change)"
   ]
  },
  {
   "cell_type": "code",
   "execution_count": 73,
   "id": "9665a59e",
   "metadata": {
    "scrolled": true
   },
   "outputs": [
    {
     "data": {
      "text/plain": [
       "MannwhitneyuResult(statistic=50.0, pvalue=0.44394228834015875)"
      ]
     },
     "execution_count": 73,
     "metadata": {},
     "output_type": "execute_result"
    }
   ],
   "source": [
    "# Man Whit U hypothesis test for BTC weekly change with high and low M2 change datasets\n",
    "mannwhitneyu(high_m2_1wk_BTC_change, low_m2_1wk_BTC_change)"
   ]
  },
  {
   "cell_type": "code",
   "execution_count": 74,
   "id": "8278cc5a",
   "metadata": {},
   "outputs": [
    {
     "data": {
      "text/plain": [
       "MannwhitneyuResult(statistic=1144.0, pvalue=0.2536181572532983)"
      ]
     },
     "execution_count": 74,
     "metadata": {},
     "output_type": "execute_result"
    }
   ],
   "source": [
    "# Man Whit U hypothesis test for BTC weekly change with normal and low M2 change datasets\n",
    "mannwhitneyu(normal_m2_1wk_BTC_change, low_m2_1wk_BTC_change)"
   ]
  },
  {
   "cell_type": "code",
   "execution_count": 66,
   "id": "26af9c7b",
   "metadata": {},
   "outputs": [
    {
     "data": {
      "text/plain": [
       "array([[<AxesSubplot:title={'center':'High'}>,\n",
       "        <AxesSubplot:title={'center':'Low'}>],\n",
       "       [<AxesSubplot:title={'center':'Normal'}>, <AxesSubplot:>]],\n",
       "      dtype=object)"
      ]
     },
     "execution_count": 66,
     "metadata": {},
     "output_type": "execute_result"
    },
    {
     "data": {
      "image/png": "[encoded data removed]",
      "text/plain": [
       "<Figure size 432x288 with 4 Axes>"
      ]
     },
     "metadata": {
      "needs_background": "light"
     },
     "output_type": "display_data"
    }
   ],
   "source": [
    "# Creating histograms of weekly change in S&P 500 based on M2 Change Cat column\n",
    "m2_1wk_df.hist(column = 'SP 500 1wk Change', by = 'M2 Change Cat')"
   ]
  },
  {
   "cell_type": "code",
   "execution_count": 39,
   "id": "56275c9e",
   "metadata": {
    "scrolled": false
   },
   "outputs": [
    {
     "data": {
      "text/plain": [
       "<AxesSubplot:title={'center':'SP 500 1wk Change'}, xlabel='M2 Change Cat'>"
      ]
     },
     "execution_count": 39,
     "metadata": {},
     "output_type": "execute_result"
    },
    {
     "data": {
      "image/png": "[encoded data removed]",
      "text/plain": [
       "<Figure size 432x288 with 1 Axes>"
      ]
     },
     "metadata": {
      "needs_background": "light"
     },
     "output_type": "display_data"
    }
   ],
   "source": [
    "# Creating boxplot of weekly change in S&P 500 based on M2 Change Cat column\n",
    "m2_1wk_df.boxplot(column = 'SP 500 1wk Change', by = 'M2 Change Cat')"
   ]
  },
  {
   "cell_type": "code",
   "execution_count": 56,
   "id": "19de96d6",
   "metadata": {},
   "outputs": [],
   "source": [
    "# Creating series for different sets of weekly change in S&P 500 price based on M2 Change Cat\n",
    "high_m2_1wk_SP_change = m2_1wk_df[m2_1wk_df['M2 Change Cat'] == 'High']['SP 500 1wk Change'].dropna()\n",
    "normal_m2_1wk_SP_change = m2_1wk_df[m2_1wk_df['M2 Change Cat'] == 'Normal']['SP 500 1wk Change'].dropna()\n",
    "low_m2_1wk_SP_change = m2_1wk_df[m2_1wk_df['M2 Change Cat'] == 'Low']['SP 500 1wk Change'].dropna()"
   ]
  },
  {
   "cell_type": "code",
   "execution_count": 75,
   "id": "64b33f0a",
   "metadata": {},
   "outputs": [
    {
     "data": {
      "text/plain": [
       "MannwhitneyuResult(statistic=3587.0, pvalue=0.22505803271651115)"
      ]
     },
     "execution_count": 75,
     "metadata": {},
     "output_type": "execute_result"
    }
   ],
   "source": [
    "# Man Whit U hypothesis test for S&P 500 weekly change with high and normal M2 change datasets\n",
    "mannwhitneyu(high_m2_1wk_SP_change, normal_m2_1wk_SP_change)"
   ]
  },
  {
   "cell_type": "code",
   "execution_count": 76,
   "id": "8015d9c6",
   "metadata": {
    "scrolled": true
   },
   "outputs": [
    {
     "data": {
      "text/plain": [
       "MannwhitneyuResult(statistic=50.0, pvalue=0.28375553148860444)"
      ]
     },
     "execution_count": 76,
     "metadata": {},
     "output_type": "execute_result"
    }
   ],
   "source": [
    "# Man Whit U hypothesis test for S&P 500 weekly change with high and low M2 change datasets\n",
    "mannwhitneyu(high_m2_1wk_SP_change, low_m2_1wk_SP_change)"
   ]
  },
  {
   "cell_type": "code",
   "execution_count": 77,
   "id": "11befbb9",
   "metadata": {},
   "outputs": [
    {
     "data": {
      "text/plain": [
       "MannwhitneyuResult(statistic=586.0, pvalue=0.0016645806250648865)"
      ]
     },
     "execution_count": 77,
     "metadata": {},
     "output_type": "execute_result"
    }
   ],
   "source": [
    "# Man Whit U hypothesis test for S&P 500 weekly change with low and normal M2 change datasets\n",
    "mannwhitneyu(normal_m2_1wk_SP_change, low_m2_1wk_SP_change)"
   ]
  },
  {
   "cell_type": "code",
   "execution_count": 87,
   "id": "0399983c",
   "metadata": {},
   "outputs": [],
   "source": [
    "# Creating dictionary with various p-values from above analysis of Gold, BTC and S&P 500 weekly changes\n",
    "mw_u_m2 = {'Gold pvalues':[0.25839,0.10114,0.026012], 'BTC pvalues':[0.23203, 0.44394,0.25362], \\\n",
    "                 'SP500 pvalues':[0.22506, 0.28376, 0.0166]}"
   ]
  },
  {
   "cell_type": "code",
   "execution_count": 84,
   "id": "2f30b5d9",
   "metadata": {
    "scrolled": false
   },
   "outputs": [],
   "source": [
    "mw_u_m2_df = pd.DataFrame.from_dict(mw_u_m2, orient='index', columns = ['High/Normal', 'High/Low', 'Normal/Low'])"
   ]
  },
  {
   "cell_type": "code",
   "execution_count": 88,
   "id": "6d53e161",
   "metadata": {
    "scrolled": false
   },
   "outputs": [
    {
     "data": {
      "text/html": [
       "<div>\n",
       "<style scoped>\n",
       "    .dataframe tbody tr th:only-of-type {\n",
       "        vertical-align: middle;\n",
       "    }\n",
       "\n",
       "    .dataframe tbody tr th {\n",
       "        vertical-align: top;\n",
       "    }\n",
       "\n",
       "    .dataframe thead th {\n",
       "        text-align: right;\n",
       "    }\n",
       "</style>\n",
       "<table border=\"1\" class=\"dataframe\">\n",
       "  <thead>\n",
       "    <tr style=\"text-align: right;\">\n",
       "      <th></th>\n",
       "      <th>High/Normal</th>\n",
       "      <th>High/Low</th>\n",
       "      <th>Normal/Low</th>\n",
       "    </tr>\n",
       "  </thead>\n",
       "  <tbody>\n",
       "    <tr>\n",
       "      <th>Gold pvalues</th>\n",
       "      <td>0.25839</td>\n",
       "      <td>0.10114</td>\n",
       "      <td>0.026012</td>\n",
       "    </tr>\n",
       "    <tr>\n",
       "      <th>BTC pvalues</th>\n",
       "      <td>0.23203</td>\n",
       "      <td>0.44394</td>\n",
       "      <td>0.253620</td>\n",
       "    </tr>\n",
       "    <tr>\n",
       "      <th>SP500 pvalues</th>\n",
       "      <td>0.22506</td>\n",
       "      <td>0.28376</td>\n",
       "      <td>0.011660</td>\n",
       "    </tr>\n",
       "  </tbody>\n",
       "</table>\n",
       "</div>"
      ],
      "text/plain": [
       "               High/Normal  High/Low  Normal/Low\n",
       "Gold pvalues       0.25839   0.10114    0.026012\n",
       "BTC pvalues        0.23203   0.44394    0.253620\n",
       "SP500 pvalues      0.22506   0.28376    0.011660"
      ]
     },
     "execution_count": 88,
     "metadata": {},
     "output_type": "execute_result"
    }
   ],
   "source": [
    "mw_u_m2_df"
   ]
  },
  {
   "cell_type": "code",
   "execution_count": 135,
   "id": "66cda95b",
   "metadata": {
    "scrolled": true
   },
   "outputs": [
    {
     "data": {
      "text/plain": [
       "<AxesSubplot:title={'center':'P-Values for Gold, and S&P 500 Weekly Changes for various M2 Change Cats'}>"
      ]
     },
     "execution_count": 135,
     "metadata": {},
     "output_type": "execute_result"
    },
    {
     "data": {
      "image/png": "[encoded data removed]",
      "text/plain": [
       "<Figure size 432x288 with 1 Axes>"
      ]
     },
     "metadata": {
      "needs_background": "light"
     },
     "output_type": "display_data"
    }
   ],
   "source": [
    "# Creating bar chart for various p-values from above analysis of Gold, BTC and S&P 500 weekly changes\n",
    "mw_u_m2_df.plot.bar(title = 'P-Values for Gold, and S&P 500 Weekly Changes for various M2 Change Cats')"
   ]
  },
  {
   "cell_type": "code",
   "execution_count": 92,
   "id": "76751997",
   "metadata": {
    "scrolled": false
   },
   "outputs": [
    {
     "data": {
      "text/html": [
       "<div>\n",
       "<style scoped>\n",
       "    .dataframe tbody tr th:only-of-type {\n",
       "        vertical-align: middle;\n",
       "    }\n",
       "\n",
       "    .dataframe tbody tr th {\n",
       "        vertical-align: top;\n",
       "    }\n",
       "\n",
       "    .dataframe thead th {\n",
       "        text-align: right;\n",
       "    }\n",
       "</style>\n",
       "<table border=\"1\" class=\"dataframe\">\n",
       "  <thead>\n",
       "    <tr style=\"text-align: right;\">\n",
       "      <th></th>\n",
       "      <th>1wk Change</th>\n",
       "      <th>BTC 1wk Change</th>\n",
       "      <th>Gold 1wk Change</th>\n",
       "      <th>SP 500 1wk Change</th>\n",
       "    </tr>\n",
       "    <tr>\n",
       "      <th>M2 Change Cat</th>\n",
       "      <th></th>\n",
       "      <th></th>\n",
       "      <th></th>\n",
       "      <th></th>\n",
       "    </tr>\n",
       "  </thead>\n",
       "  <tbody>\n",
       "    <tr>\n",
       "      <th>High</th>\n",
       "      <td>0.011034</td>\n",
       "      <td>0.022237</td>\n",
       "      <td>0.005211</td>\n",
       "      <td>0.005933</td>\n",
       "    </tr>\n",
       "    <tr>\n",
       "      <th>Low</th>\n",
       "      <td>-0.005361</td>\n",
       "      <td>0.049301</td>\n",
       "      <td>-0.008241</td>\n",
       "      <td>0.018799</td>\n",
       "    </tr>\n",
       "    <tr>\n",
       "      <th>Normal</th>\n",
       "      <td>0.001095</td>\n",
       "      <td>0.019549</td>\n",
       "      <td>0.000842</td>\n",
       "      <td>0.002021</td>\n",
       "    </tr>\n",
       "  </tbody>\n",
       "</table>\n",
       "</div>"
      ],
      "text/plain": [
       "               1wk Change  BTC 1wk Change  Gold 1wk Change  SP 500 1wk Change\n",
       "M2 Change Cat                                                                \n",
       "High             0.011034        0.022237         0.005211           0.005933\n",
       "Low             -0.005361        0.049301        -0.008241           0.018799\n",
       "Normal           0.001095        0.019549         0.000842           0.002021"
      ]
     },
     "execution_count": 92,
     "metadata": {},
     "output_type": "execute_result"
    }
   ],
   "source": [
    "# Finding mean of columns grouping by M2 Change Cat column\n",
    "m2_1wk_df.groupby('M2 Change Cat').agg('mean').drop(columns = ['M2','BTC/USD','Oz Gold/USD', 'SP500'])"
   ]
  },
  {
   "cell_type": "code",
   "execution_count": 93,
   "id": "6ccd5693",
   "metadata": {},
   "outputs": [],
   "source": [
    "def m2cat_2(m2_change):\n",
    "    \"\"\"\n",
    "    This function categorizes weekly M2 changes.\n",
    "    A 'High' weekly change is any change 1 standard deviations above the mean.\n",
    "    A 'Low' weekly change is any change 1 standard deviations below the mean.\n",
    "    Anything else is 'Normal'\n",
    "    \n",
    "    Inputs:\n",
    "    Weekly M2 change\n",
    "    \n",
    "    Outputs:\n",
    "    Categorical variables to describe weekly change in M2 ('High', 'Normal', and 'Low')\n",
    "    \"\"\"\n",
    "    if m2_change > m2_1wk_mean + m2_1wk_std:\n",
    "        return 'High'\n",
    "    elif m2_change < m2_1wk_mean - m2_1wk_std:\n",
    "        return 'Low'\n",
    "    else:\n",
    "        return 'Normal'"
   ]
  },
  {
   "cell_type": "code",
   "execution_count": 94,
   "id": "01f89979",
   "metadata": {},
   "outputs": [],
   "source": [
    "# Creating categorical columns to describe weekly M2 change (this time 1 std from mean instead of 2)\n",
    "m2_1wk_df['M2 Change Cat 2'] = m2_1wk_df['1wk Change'].apply(m2cat_2)"
   ]
  },
  {
   "cell_type": "code",
   "execution_count": 132,
   "id": "22870e59",
   "metadata": {
    "scrolled": true
   },
   "outputs": [
    {
     "data": {
      "text/html": [
       "<div>\n",
       "<style scoped>\n",
       "    .dataframe tbody tr th:only-of-type {\n",
       "        vertical-align: middle;\n",
       "    }\n",
       "\n",
       "    .dataframe tbody tr th {\n",
       "        vertical-align: top;\n",
       "    }\n",
       "\n",
       "    .dataframe thead th {\n",
       "        text-align: right;\n",
       "    }\n",
       "</style>\n",
       "<table border=\"1\" class=\"dataframe\">\n",
       "  <thead>\n",
       "    <tr style=\"text-align: right;\">\n",
       "      <th></th>\n",
       "      <th>Date</th>\n",
       "      <th>1wk Change</th>\n",
       "      <th>BTC 1wk Change</th>\n",
       "      <th>Gold 1wk Change</th>\n",
       "      <th>SP 500 1wk Change</th>\n",
       "      <th>M2 Change Cat</th>\n",
       "    </tr>\n",
       "    <tr>\n",
       "      <th>M2 Change Cat 2</th>\n",
       "      <th></th>\n",
       "      <th></th>\n",
       "      <th></th>\n",
       "      <th></th>\n",
       "      <th></th>\n",
       "      <th></th>\n",
       "    </tr>\n",
       "  </thead>\n",
       "  <tbody>\n",
       "    <tr>\n",
       "      <th>High</th>\n",
       "      <td>167</td>\n",
       "      <td>167</td>\n",
       "      <td>40</td>\n",
       "      <td>167</td>\n",
       "      <td>51</td>\n",
       "      <td>167</td>\n",
       "    </tr>\n",
       "    <tr>\n",
       "      <th>Low</th>\n",
       "      <td>155</td>\n",
       "      <td>155</td>\n",
       "      <td>31</td>\n",
       "      <td>155</td>\n",
       "      <td>40</td>\n",
       "      <td>155</td>\n",
       "    </tr>\n",
       "    <tr>\n",
       "      <th>Normal</th>\n",
       "      <td>1779</td>\n",
       "      <td>1778</td>\n",
       "      <td>334</td>\n",
       "      <td>1778</td>\n",
       "      <td>406</td>\n",
       "      <td>1779</td>\n",
       "    </tr>\n",
       "  </tbody>\n",
       "</table>\n",
       "</div>"
      ],
      "text/plain": [
       "                 Date  1wk Change  BTC 1wk Change  Gold 1wk Change  \\\n",
       "M2 Change Cat 2                                                      \n",
       "High              167         167              40              167   \n",
       "Low               155         155              31              155   \n",
       "Normal           1779        1778             334             1778   \n",
       "\n",
       "                 SP 500 1wk Change  M2 Change Cat  \n",
       "M2 Change Cat 2                                    \n",
       "High                            51            167  \n",
       "Low                             40            155  \n",
       "Normal                         406           1779  "
      ]
     },
     "execution_count": 132,
     "metadata": {},
     "output_type": "execute_result"
    }
   ],
   "source": [
    "# Finding count of each categorical column for weekly M2 change (this time 1 std from mean instead of 2)\n",
    "m2_1wk_df.groupby('M2 Change Cat 2').count().drop(columns = ['M2','BTC/USD','Oz Gold/USD', 'SP500'])"
   ]
  },
  {
   "cell_type": "code",
   "execution_count": 96,
   "id": "4b584b2e",
   "metadata": {
    "scrolled": false
   },
   "outputs": [
    {
     "data": {
      "text/plain": [
       "<AxesSubplot:title={'center':'Gold 1wk Change'}, xlabel='M2 Change Cat 2'>"
      ]
     },
     "execution_count": 96,
     "metadata": {},
     "output_type": "execute_result"
    },
    {
     "data": {
      "image/png": "[encoded data removed]",
      "text/plain": [
       "<Figure size 432x288 with 1 Axes>"
      ]
     },
     "metadata": {
      "needs_background": "light"
     },
     "output_type": "display_data"
    }
   ],
   "source": [
    "# Creating boxplot of weekly change in gold based on M2 Change Cat 2 column\n",
    "m2_1wk_df.boxplot(column = 'Gold 1wk Change', by = 'M2 Change Cat 2')"
   ]
  },
  {
   "cell_type": "code",
   "execution_count": 97,
   "id": "6786e48f",
   "metadata": {},
   "outputs": [
    {
     "data": {
      "text/plain": [
       "array([[<AxesSubplot:title={'center':'High'}>,\n",
       "        <AxesSubplot:title={'center':'Low'}>],\n",
       "       [<AxesSubplot:title={'center':'Normal'}>, <AxesSubplot:>]],\n",
       "      dtype=object)"
      ]
     },
     "execution_count": 97,
     "metadata": {},
     "output_type": "execute_result"
    },
    {
     "data": {
      "image/png": "[encoded data removed]",
      "text/plain": [
       "<Figure size 432x288 with 4 Axes>"
      ]
     },
     "metadata": {
      "needs_background": "light"
     },
     "output_type": "display_data"
    }
   ],
   "source": [
    "# Creating histogram of weekly change in gold based on M2 Change Cat 2 column\n",
    "m2_1wk_df.hist(column = 'Gold 1wk Change', by = 'M2 Change Cat 2')"
   ]
  },
  {
   "cell_type": "code",
   "execution_count": 43,
   "id": "4d3aacd1",
   "metadata": {},
   "outputs": [],
   "source": [
    "from scipy.stats import ttest_ind"
   ]
  },
  {
   "cell_type": "code",
   "execution_count": 68,
   "id": "78b09930",
   "metadata": {},
   "outputs": [],
   "source": [
    "from scipy.stats import mannwhitneyu"
   ]
  },
  {
   "cell_type": "code",
   "execution_count": 98,
   "id": "55117158",
   "metadata": {},
   "outputs": [],
   "source": [
    "# Creating series for different sets of weekly change in gold price based on M2 Change Cat 2\n",
    "high_m2_1wk_gold_change_2 = m2_1wk_df[m2_1wk_df['M2 Change Cat 2'] == 'High']['Gold 1wk Change'].dropna()\n",
    "normal_m2_1wk_gold_change_2 = m2_1wk_df[m2_1wk_df['M2 Change Cat 2'] == 'Normal']['Gold 1wk Change'].dropna()\n",
    "low_m2_1wk_gold_change_2 = m2_1wk_df[m2_1wk_df['M2 Change Cat 2'] == 'Low']['Gold 1wk Change'].dropna()"
   ]
  },
  {
   "cell_type": "code",
   "execution_count": 101,
   "id": "f7a19059",
   "metadata": {},
   "outputs": [
    {
     "data": {
      "text/plain": [
       "MannwhitneyuResult(statistic=146395.0, pvalue=0.3828712387217875)"
      ]
     },
     "execution_count": 101,
     "metadata": {},
     "output_type": "execute_result"
    }
   ],
   "source": [
    "# Man Whit U hypothesis test for gold weekly change with high and normal M2 change datasets\n",
    "mannwhitneyu(high_m2_1wk_gold_change_2, normal_m2_1wk_gold_change_2)"
   ]
  },
  {
   "cell_type": "code",
   "execution_count": 102,
   "id": "64433158",
   "metadata": {
    "scrolled": true
   },
   "outputs": [
    {
     "data": {
      "text/plain": [
       "MannwhitneyuResult(statistic=12016.0, pvalue=0.1336306552857781)"
      ]
     },
     "execution_count": 102,
     "metadata": {},
     "output_type": "execute_result"
    }
   ],
   "source": [
    "# Man Whit U hypothesis test for gold weekly change with high and low M2 change datasets\n",
    "mannwhitneyu(high_m2_1wk_gold_change_2, low_m2_1wk_gold_change_2)"
   ]
  },
  {
   "cell_type": "code",
   "execution_count": 103,
   "id": "1e82cd6b",
   "metadata": {
    "scrolled": false
   },
   "outputs": [
    {
     "data": {
      "text/plain": [
       "MannwhitneyuResult(statistic=129060.0, pvalue=0.09499694168032252)"
      ]
     },
     "execution_count": 103,
     "metadata": {},
     "output_type": "execute_result"
    }
   ],
   "source": [
    "# Man Whit U hypothesis test for gold weekly change with low and normal M2 change datasets\n",
    "mannwhitneyu(normal_m2_1wk_gold_change_2, low_m2_1wk_gold_change_2)"
   ]
  },
  {
   "cell_type": "code",
   "execution_count": 100,
   "id": "9e30de53",
   "metadata": {},
   "outputs": [
    {
     "data": {
      "text/plain": [
       "array([[<AxesSubplot:title={'center':'High'}>,\n",
       "        <AxesSubplot:title={'center':'Low'}>],\n",
       "       [<AxesSubplot:title={'center':'Normal'}>, <AxesSubplot:>]],\n",
       "      dtype=object)"
      ]
     },
     "execution_count": 100,
     "metadata": {},
     "output_type": "execute_result"
    },
    {
     "data": {
      "image/png": "[encoded data removed]",
      "text/plain": [
       "<Figure size 432x288 with 4 Axes>"
      ]
     },
     "metadata": {
      "needs_background": "light"
     },
     "output_type": "display_data"
    }
   ],
   "source": [
    "# Creating histograms of weekly change in BTC based on M2 Change Cat 2 column\n",
    "m2_1wk_df.hist(column = 'BTC 1wk Change', by = 'M2 Change Cat 2')"
   ]
  },
  {
   "cell_type": "code",
   "execution_count": 104,
   "id": "41ae2844",
   "metadata": {
    "scrolled": true
   },
   "outputs": [
    {
     "data": {
      "text/plain": [
       "<AxesSubplot:title={'center':'BTC 1wk Change'}, xlabel='M2 Change Cat 2'>"
      ]
     },
     "execution_count": 104,
     "metadata": {},
     "output_type": "execute_result"
    },
    {
     "data": {
      "image/png": "[encoded data removed]",
      "text/plain": [
       "<Figure size 432x288 with 1 Axes>"
      ]
     },
     "metadata": {
      "needs_background": "light"
     },
     "output_type": "display_data"
    }
   ],
   "source": [
    "# Creating boxplots of weekly change in BTC based on M2 Change Cat 2 column\n",
    "m2_1wk_df.boxplot(column = 'BTC 1wk Change', by = 'M2 Change Cat 2')"
   ]
  },
  {
   "cell_type": "code",
   "execution_count": 105,
   "id": "22d91b70",
   "metadata": {},
   "outputs": [],
   "source": [
    "# Creating series for different sets of weekly change in BTC price based on M2 Change Cat 2\n",
    "high_m2_1wk_BTC_change_2 = m2_1wk_df[m2_1wk_df['M2 Change Cat 2'] == 'High']['BTC 1wk Change'].dropna()\n",
    "normal_m2_1wk_BTC_change_2 = m2_1wk_df[m2_1wk_df['M2 Change Cat 2'] == 'Normal']['BTC 1wk Change'].dropna()\n",
    "low_m2_1wk_BTC_change_2 = m2_1wk_df[m2_1wk_df['M2 Change Cat 2'] == 'Low']['BTC 1wk Change'].dropna()"
   ]
  },
  {
   "cell_type": "code",
   "execution_count": 106,
   "id": "81eafa77",
   "metadata": {},
   "outputs": [
    {
     "data": {
      "text/plain": [
       "MannwhitneyuResult(statistic=6033.0, pvalue=0.15852137479160855)"
      ]
     },
     "execution_count": 106,
     "metadata": {},
     "output_type": "execute_result"
    }
   ],
   "source": [
    "# Man Whit U hypothesis test for BTC weekly change with high and normal M2 change datasets\n",
    "mannwhitneyu(high_m2_1wk_BTC_change_2, normal_m2_1wk_BTC_change_2)"
   ]
  },
  {
   "cell_type": "code",
   "execution_count": 107,
   "id": "981a882e",
   "metadata": {
    "scrolled": true
   },
   "outputs": [
    {
     "data": {
      "text/plain": [
       "MannwhitneyuResult(statistic=613.0, pvalue=0.4699651084820097)"
      ]
     },
     "execution_count": 107,
     "metadata": {},
     "output_type": "execute_result"
    }
   ],
   "source": [
    "# Man Whit U hypothesis test for BTC weekly change with high and low M2 change datasets\n",
    "mannwhitneyu(high_m2_1wk_BTC_change_2, low_m2_1wk_BTC_change_2)"
   ]
  },
  {
   "cell_type": "code",
   "execution_count": 108,
   "id": "009b8e5a",
   "metadata": {},
   "outputs": [
    {
     "data": {
      "text/plain": [
       "MannwhitneyuResult(statistic=4581.0, pvalue=0.144643421035124)"
      ]
     },
     "execution_count": 108,
     "metadata": {},
     "output_type": "execute_result"
    }
   ],
   "source": [
    "# Man Whit U hypothesis test for BTC weekly change with low and normal M2 change datasets\n",
    "mannwhitneyu(normal_m2_1wk_BTC_change_2, low_m2_1wk_BTC_change_2)"
   ]
  },
  {
   "cell_type": "code",
   "execution_count": 109,
   "id": "c9efaab1",
   "metadata": {},
   "outputs": [
    {
     "data": {
      "text/plain": [
       "array([[<AxesSubplot:title={'center':'High'}>,\n",
       "        <AxesSubplot:title={'center':'Low'}>],\n",
       "       [<AxesSubplot:title={'center':'Normal'}>, <AxesSubplot:>]],\n",
       "      dtype=object)"
      ]
     },
     "execution_count": 109,
     "metadata": {},
     "output_type": "execute_result"
    },
    {
     "data": {
      "image/png": "[encoded data removed]",
      "text/plain": [
       "<Figure size 432x288 with 4 Axes>"
      ]
     },
     "metadata": {
      "needs_background": "light"
     },
     "output_type": "display_data"
    }
   ],
   "source": [
    "# Creating histograms of weekly change in S&P 500 based on M2 Change Cat 2 column\n",
    "m2_1wk_df.hist(column = 'SP 500 1wk Change', by = 'M2 Change Cat 2')"
   ]
  },
  {
   "cell_type": "code",
   "execution_count": 110,
   "id": "f228ced1",
   "metadata": {
    "scrolled": false
   },
   "outputs": [
    {
     "data": {
      "text/plain": [
       "<AxesSubplot:title={'center':'SP 500 1wk Change'}, xlabel='M2 Change Cat 2'>"
      ]
     },
     "execution_count": 110,
     "metadata": {},
     "output_type": "execute_result"
    },
    {
     "data": {
      "image/png": "[encoded data removed]",
      "text/plain": [
       "<Figure size 432x288 with 1 Axes>"
      ]
     },
     "metadata": {
      "needs_background": "light"
     },
     "output_type": "display_data"
    }
   ],
   "source": [
    "# Creating boxplot of weekly change in S&P 500 based on M2 Change Cat 2 column\n",
    "m2_1wk_df.boxplot(column = 'SP 500 1wk Change', by = 'M2 Change Cat 2')"
   ]
  },
  {
   "cell_type": "code",
   "execution_count": 111,
   "id": "bc6f1735",
   "metadata": {},
   "outputs": [],
   "source": [
    "# Creating series for different sets of weekly change in S&P 500 price based on M2 Change Cat 2\n",
    "high_m2_1wk_SP_change_2 = m2_1wk_df[m2_1wk_df['M2 Change Cat 2'] == 'High']['SP 500 1wk Change'].dropna()\n",
    "normal_m2_1wk_SP_change_2 = m2_1wk_df[m2_1wk_df['M2 Change Cat 2'] == 'Normal']['SP 500 1wk Change'].dropna()\n",
    "low_m2_1wk_SP_change_2 = m2_1wk_df[m2_1wk_df['M2 Change Cat 2'] == 'Low']['SP 500 1wk Change'].dropna()"
   ]
  },
  {
   "cell_type": "code",
   "execution_count": 112,
   "id": "012d5449",
   "metadata": {},
   "outputs": [
    {
     "data": {
      "text/plain": [
       "MannwhitneyuResult(statistic=9857.0, pvalue=0.28855371840866906)"
      ]
     },
     "execution_count": 112,
     "metadata": {},
     "output_type": "execute_result"
    }
   ],
   "source": [
    "# Man Whit U hypothesis test for S&P 500 weekly change with high and normal M2 change datasets\n",
    "mannwhitneyu(high_m2_1wk_SP_change_2, normal_m2_1wk_SP_change_2)"
   ]
  },
  {
   "cell_type": "code",
   "execution_count": 113,
   "id": "fb9ee3b8",
   "metadata": {
    "scrolled": true
   },
   "outputs": [
    {
     "data": {
      "text/plain": [
       "MannwhitneyuResult(statistic=957.0, pvalue=0.3085630989810228)"
      ]
     },
     "execution_count": 113,
     "metadata": {},
     "output_type": "execute_result"
    }
   ],
   "source": [
    "# Man Whit U hypothesis test for S&P 500 weekly change with high and low M2 change datasets\n",
    "mannwhitneyu(high_m2_1wk_SP_change_2, low_m2_1wk_SP_change_2)"
   ]
  },
  {
   "cell_type": "code",
   "execution_count": 114,
   "id": "11ced5e2",
   "metadata": {},
   "outputs": [
    {
     "data": {
      "text/plain": [
       "MannwhitneyuResult(statistic=8027.0, pvalue=0.4526449269963294)"
      ]
     },
     "execution_count": 114,
     "metadata": {},
     "output_type": "execute_result"
    }
   ],
   "source": [
    "# Man Whit U hypothesis test for S&P 500 weekly change with low and normal M2 change datasets\n",
    "mannwhitneyu(normal_m2_1wk_SP_change_2, low_m2_1wk_SP_change_2)"
   ]
  },
  {
   "cell_type": "code",
   "execution_count": 115,
   "id": "174fe173",
   "metadata": {},
   "outputs": [],
   "source": [
    "# Creating dictionary with various p-values from above analysis of Gold, BTC and S&P 500 weekly changes\n",
    "mw_u_m2_2 = {'Gold pvalues':[0.38287, 0.13363, 0.09499], 'BTC pvalues':[0.15852, 0.46997, 0.14464], \\\n",
    "                 'SP500 pvalues':[0.28855, 0.30856, 0.45264]}"
   ]
  },
  {
   "cell_type": "code",
   "execution_count": 120,
   "id": "ebcbdfa5",
   "metadata": {
    "scrolled": false
   },
   "outputs": [],
   "source": [
    "mw_u_m2_2_df = pd.DataFrame.from_dict(mw_u_m2_2, orient='index', columns = ['High/Normal', 'High/Low', 'Normal/Low'])"
   ]
  },
  {
   "cell_type": "code",
   "execution_count": 121,
   "id": "7096b417",
   "metadata": {
    "scrolled": false
   },
   "outputs": [
    {
     "data": {
      "text/html": [
       "<div>\n",
       "<style scoped>\n",
       "    .dataframe tbody tr th:only-of-type {\n",
       "        vertical-align: middle;\n",
       "    }\n",
       "\n",
       "    .dataframe tbody tr th {\n",
       "        vertical-align: top;\n",
       "    }\n",
       "\n",
       "    .dataframe thead th {\n",
       "        text-align: right;\n",
       "    }\n",
       "</style>\n",
       "<table border=\"1\" class=\"dataframe\">\n",
       "  <thead>\n",
       "    <tr style=\"text-align: right;\">\n",
       "      <th></th>\n",
       "      <th>High/Normal</th>\n",
       "      <th>High/Low</th>\n",
       "      <th>Normal/Low</th>\n",
       "    </tr>\n",
       "  </thead>\n",
       "  <tbody>\n",
       "    <tr>\n",
       "      <th>Gold pvalues</th>\n",
       "      <td>0.38287</td>\n",
       "      <td>0.13363</td>\n",
       "      <td>0.09499</td>\n",
       "    </tr>\n",
       "    <tr>\n",
       "      <th>BTC pvalues</th>\n",
       "      <td>0.15852</td>\n",
       "      <td>0.46997</td>\n",
       "      <td>0.14464</td>\n",
       "    </tr>\n",
       "    <tr>\n",
       "      <th>SP500 pvalues</th>\n",
       "      <td>0.28855</td>\n",
       "      <td>0.30856</td>\n",
       "      <td>0.45264</td>\n",
       "    </tr>\n",
       "  </tbody>\n",
       "</table>\n",
       "</div>"
      ],
      "text/plain": [
       "               High/Normal  High/Low  Normal/Low\n",
       "Gold pvalues       0.38287   0.13363     0.09499\n",
       "BTC pvalues        0.15852   0.46997     0.14464\n",
       "SP500 pvalues      0.28855   0.30856     0.45264"
      ]
     },
     "execution_count": 121,
     "metadata": {},
     "output_type": "execute_result"
    }
   ],
   "source": [
    "mw_u_m2_2_df"
   ]
  },
  {
   "cell_type": "code",
   "execution_count": 134,
   "id": "46089e93",
   "metadata": {
    "scrolled": false
   },
   "outputs": [
    {
     "data": {
      "text/plain": [
       "<AxesSubplot:title={'center':'P-Values for Gold, and S&P 500 Weekly Changes for various M2 Change Cats'}>"
      ]
     },
     "execution_count": 134,
     "metadata": {},
     "output_type": "execute_result"
    },
    {
     "data": {
      "image/png": "[encoded data removed]",
      "text/plain": [
       "<Figure size 432x288 with 1 Axes>"
      ]
     },
     "metadata": {
      "needs_background": "light"
     },
     "output_type": "display_data"
    }
   ],
   "source": [
    "# Creating bar chart for various p-values from above analysis of Gold, BTC and S&P 500 weekly changes\n",
    "mw_u_m2_2_df.plot.bar(title = 'P-Values for Gold, and S&P 500 Weekly Changes for various M2 Change Cats')"
   ]
  },
  {
   "cell_type": "code",
   "execution_count": 123,
   "id": "c4f53f42",
   "metadata": {
    "scrolled": false
   },
   "outputs": [
    {
     "data": {
      "text/html": [
       "<div>\n",
       "<style scoped>\n",
       "    .dataframe tbody tr th:only-of-type {\n",
       "        vertical-align: middle;\n",
       "    }\n",
       "\n",
       "    .dataframe tbody tr th {\n",
       "        vertical-align: top;\n",
       "    }\n",
       "\n",
       "    .dataframe thead th {\n",
       "        text-align: right;\n",
       "    }\n",
       "</style>\n",
       "<table border=\"1\" class=\"dataframe\">\n",
       "  <thead>\n",
       "    <tr style=\"text-align: right;\">\n",
       "      <th></th>\n",
       "      <th>1wk Change</th>\n",
       "      <th>BTC 1wk Change</th>\n",
       "      <th>Gold 1wk Change</th>\n",
       "      <th>SP 500 1wk Change</th>\n",
       "    </tr>\n",
       "    <tr>\n",
       "      <th>M2 Change Cat 2</th>\n",
       "      <th></th>\n",
       "      <th></th>\n",
       "      <th></th>\n",
       "      <th></th>\n",
       "    </tr>\n",
       "  </thead>\n",
       "  <tbody>\n",
       "    <tr>\n",
       "      <th>High</th>\n",
       "      <td>0.005720</td>\n",
       "      <td>0.031293</td>\n",
       "      <td>0.002222</td>\n",
       "      <td>0.001652</td>\n",
       "    </tr>\n",
       "    <tr>\n",
       "      <th>Low</th>\n",
       "      <td>-0.002297</td>\n",
       "      <td>0.038541</td>\n",
       "      <td>-0.001634</td>\n",
       "      <td>0.001210</td>\n",
       "    </tr>\n",
       "    <tr>\n",
       "      <th>Normal</th>\n",
       "      <td>0.001074</td>\n",
       "      <td>0.017124</td>\n",
       "      <td>0.000899</td>\n",
       "      <td>0.002600</td>\n",
       "    </tr>\n",
       "  </tbody>\n",
       "</table>\n",
       "</div>"
      ],
      "text/plain": [
       "                 1wk Change  BTC 1wk Change  Gold 1wk Change  \\\n",
       "M2 Change Cat 2                                                \n",
       "High               0.005720        0.031293         0.002222   \n",
       "Low               -0.002297        0.038541        -0.001634   \n",
       "Normal             0.001074        0.017124         0.000899   \n",
       "\n",
       "                 SP 500 1wk Change  \n",
       "M2 Change Cat 2                     \n",
       "High                      0.001652  \n",
       "Low                       0.001210  \n",
       "Normal                    0.002600  "
      ]
     },
     "execution_count": 123,
     "metadata": {},
     "output_type": "execute_result"
    }
   ],
   "source": [
    "# Finding mean of columns grouping by CPI Change Cat 2 column\n",
    "m2_1wk_df.groupby('M2 Change Cat 2').agg('mean').drop(columns = ['M2','BTC/USD','Oz Gold/USD', 'SP500'])"
   ]
  },
  {
   "cell_type": "code",
   "execution_count": null,
   "id": "395c2394",
   "metadata": {},
   "outputs": [],
   "source": []
  }
 ],
 "metadata": {
  "kernelspec": {
   "display_name": "Python 3",
   "language": "python",
   "name": "python3"
  },
  "language_info": {
   "codemirror_mode": {
    "name": "ipython",
    "version": 3
   },
   "file_extension": ".py",
   "mimetype": "text/x-python",
   "name": "python",
   "nbconvert_exporter": "python",
   "pygments_lexer": "ipython3",
   "version": "3.8.8"
  }
 },
 "nbformat": 4,
 "nbformat_minor": 5
}
